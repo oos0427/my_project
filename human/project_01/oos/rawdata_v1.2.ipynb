{
 "cells": [
  {
   "cell_type": "markdown",
   "metadata": {},
   "source": [
    "rowdata 실격 및 null 값제거"
   ]
  },
  {
   "cell_type": "code",
   "execution_count": 2,
   "metadata": {},
   "outputs": [],
   "source": [
    "import pandas as pd\n",
    "import numpy as np\n",
    "import matplotlib.pyplot as plt\n",
    "import seaborn"
   ]
  },
  {
   "cell_type": "code",
   "execution_count": 3,
   "metadata": {},
   "outputs": [
    {
     "name": "stderr",
     "output_type": "stream",
     "text": [
      "C:\\Users\\Public\\Documents\\ESTsoft\\CreatorTemp\\ipykernel_10180\\2279747927.py:1: DtypeWarning: Columns (3,37) have mixed types. Specify dtype option on import or set low_memory=False.\n",
      "  df = pd.read_csv('source/rowdata_v1.1.csv')\n"
     ]
    }
   ],
   "source": [
    "df = pd.read_csv('source/rowdata_v1.1.csv')"
   ]
  },
  {
   "cell_type": "code",
   "execution_count": 4,
   "metadata": {},
   "outputs": [
    {
     "name": "stdout",
     "output_type": "stream",
     "text": [
      "<class 'pandas.core.frame.DataFrame'>\n",
      "RangeIndex: 63293 entries, 0 to 63292\n",
      "Data columns (total 92 columns):\n",
      " #   Column           Non-Null Count  Dtype  \n",
      "---  ------           --------------  -----  \n",
      " 0   MEET             63293 non-null  object \n",
      " 1   RC_DATE          63293 non-null  int64  \n",
      " 2   RC_NO            63293 non-null  int64  \n",
      " 3   RC_DIST          63293 non-null  object \n",
      " 4   RANK             63293 non-null  object \n",
      " 5   WEATHER          63293 non-null  object \n",
      " 6   TR_CON           62879 non-null  object \n",
      " 7   TR_WC            63293 non-null  int64  \n",
      " 8   ORD              63293 non-null  int64  \n",
      " 9   CHUL_NO          63293 non-null  int64  \n",
      " 10  HR_NAME          63293 non-null  object \n",
      " 11  HR_NO            63293 non-null  int64  \n",
      " 12  NAME             63293 non-null  object \n",
      " 13  PRD_NAME         63293 non-null  object \n",
      " 14  AGE              63293 non-null  int64  \n",
      " 15  SEX              63293 non-null  object \n",
      " 16  horse_weight     63293 non-null  float64\n",
      " 17  weight_gain      63293 non-null  float64\n",
      " 18  RC_TIME          63293 non-null  float64\n",
      " 19  ORD1_CNT_T       63293 non-null  int64  \n",
      " 20  ORD2_CNT_T       63293 non-null  int64  \n",
      " 21  RC_CNT_T         63293 non-null  int64  \n",
      " 22  ORD1_CNT_Y       63293 non-null  int64  \n",
      " 23  ORD2_CNT_Y       63293 non-null  int64  \n",
      " 24  RC_CNT_Y         63293 non-null  int64  \n",
      " 25  WG_BUDAM         63293 non-null  float64\n",
      " 26  JK_NAME          63293 non-null  object \n",
      " 27  JK_NO            63293 non-null  int64  \n",
      " 28  JK_AGE           63293 non-null  int64  \n",
      " 29  JK_CAREER        63293 non-null  int64  \n",
      " 30  JK_ORD1_CNT_T    63293 non-null  int64  \n",
      " 31  JK_ORD2_CNT_T    63293 non-null  int64  \n",
      " 32  JK_RC_CNT_T      63293 non-null  int64  \n",
      " 33  JK_ORD1_CNT_Y    63293 non-null  int64  \n",
      " 34  JK_ORD2_CNT_Y    63293 non-null  int64  \n",
      " 35  JK_RC_CNT_Y      63293 non-null  int64  \n",
      " 36  TR_NAME          63292 non-null  object \n",
      " 37  TR_NO            63292 non-null  object \n",
      " 38  TR_AGE           0 non-null      float64\n",
      " 39  TR_CAREER        63292 non-null  float64\n",
      " 40  TR_ORD1_CNT_T    63287 non-null  float64\n",
      " 41  TR_ORD2_CNT_T    63287 non-null  float64\n",
      " 42  TR_RC_CNT_T      63287 non-null  float64\n",
      " 43  TR_ORD1_CNT_Y    63287 non-null  float64\n",
      " 44  TR_ORD2_CNT_Y    63287 non-null  float64\n",
      " 45  TR_RC_CNT_Y      63287 non-null  float64\n",
      " 46  HR_ORD1_CNT_T    63292 non-null  float64\n",
      " 47  HR_ORD2_CNT_T    63292 non-null  float64\n",
      " 48  HR_RC_CNT_T      63292 non-null  float64\n",
      " 49  SJ_S1F_ORD       63293 non-null  int64  \n",
      " 50  SJ_1C_ORD        63293 non-null  int64  \n",
      " 51  SJ_2C_ORD        63293 non-null  int64  \n",
      " 52  SJ_3C_ORD        63293 non-null  int64  \n",
      " 53  SJ_G3F_ORD       63293 non-null  int64  \n",
      " 54  SJ_4C_ORD        63293 non-null  int64  \n",
      " 55  SJ_G1F_ORD       63293 non-null  int64  \n",
      " 56  SE_S1F_ACC_TIME  63293 non-null  int64  \n",
      " 57  SE_1C_ACC_TIME   63293 non-null  int64  \n",
      " 58  SE_2C_ACC_TIME   63293 non-null  int64  \n",
      " 59  SE_3C_ACC_TIME   63293 non-null  int64  \n",
      " 60  SE_G3F_ACC_TIME  63293 non-null  int64  \n",
      " 61  SE_4C_ACC_TIME   63293 non-null  int64  \n",
      " 62  SE_G1F_ACC_TIME  63293 non-null  int64  \n",
      " 63  JE_S1F_TIME      63293 non-null  float64\n",
      " 64  JE_1C_TIME       63293 non-null  float64\n",
      " 65  JE_2C_TIME       63293 non-null  float64\n",
      " 66  JE_3C_TIME       63293 non-null  float64\n",
      " 67  JE_G3F_TIME      63293 non-null  float64\n",
      " 68  JE_4C_TIME       63293 non-null  float64\n",
      " 69  JE_G1F_TIME      63293 non-null  float64\n",
      " 70  BU_S1F_ORD       63293 non-null  int64  \n",
      " 71  BU_G8F_ORD       63293 non-null  int64  \n",
      " 72  BU_G6F_ORD       63293 non-null  int64  \n",
      " 73  BU_G4F_ORD       63293 non-null  int64  \n",
      " 74  BU_G3F_ORD       63293 non-null  int64  \n",
      " 75  BU_G2F_ORD       63293 non-null  int64  \n",
      " 76  BU_G1F_ORD       63293 non-null  int64  \n",
      " 77  BU_S1F_TIME      63293 non-null  float64\n",
      " 78  BU_10-8F_TIME    63293 non-null  float64\n",
      " 79  BU_8-6F_TIME     63293 non-null  float64\n",
      " 80  BU_6-4F_TIME     63293 non-null  float64\n",
      " 81  BU_4-2F_TIME     63293 non-null  float64\n",
      " 82  BU_2F-G_TIME     63293 non-null  float64\n",
      " 83  BU_3F-G_TIME     63293 non-null  float64\n",
      " 84  BU_1F-G_TIME     63293 non-null  float64\n",
      " 85  BU_S1F_ACC_TIME  63293 non-null  float64\n",
      " 86  BU_G8F_ACC_TIME  63293 non-null  float64\n",
      " 87  BU_G6F_ACC_TIME  63293 non-null  float64\n",
      " 88  BU_G4F_ACC_TIME  63293 non-null  float64\n",
      " 89  BU_G3F_ACC_TIME  63293 non-null  float64\n",
      " 90  BU_G2F_ACC_TIME  63293 non-null  float64\n",
      " 91  BU_G1F_ACC_TIME  63293 non-null  float64\n",
      "dtypes: float64(37), int64(43), object(12)\n",
      "memory usage: 44.4+ MB\n"
     ]
    }
   ],
   "source": [
    "df.info()"
   ]
  },
  {
   "cell_type": "code",
   "execution_count": 5,
   "metadata": {},
   "outputs": [
    {
     "data": {
      "text/plain": [
       "Index(['MEET', 'RC_DATE', 'RC_NO', 'RC_DIST', 'RANK', 'WEATHER', 'TR_CON',\n",
       "       'TR_WC', 'ORD', 'CHUL_NO', 'HR_NAME', 'HR_NO', 'NAME', 'PRD_NAME',\n",
       "       'AGE', 'SEX', 'horse_weight', 'weight_gain', 'RC_TIME', 'ORD1_CNT_T',\n",
       "       'ORD2_CNT_T', 'RC_CNT_T', 'ORD1_CNT_Y', 'ORD2_CNT_Y', 'RC_CNT_Y',\n",
       "       'WG_BUDAM', 'JK_NAME', 'JK_NO', 'JK_AGE', 'JK_CAREER', 'JK_ORD1_CNT_T',\n",
       "       'JK_ORD2_CNT_T', 'JK_RC_CNT_T', 'JK_ORD1_CNT_Y', 'JK_ORD2_CNT_Y',\n",
       "       'JK_RC_CNT_Y', 'TR_NAME', 'TR_NO', 'TR_AGE', 'TR_CAREER',\n",
       "       'TR_ORD1_CNT_T', 'TR_ORD2_CNT_T', 'TR_RC_CNT_T', 'TR_ORD1_CNT_Y',\n",
       "       'TR_ORD2_CNT_Y', 'TR_RC_CNT_Y', 'HR_ORD1_CNT_T', 'HR_ORD2_CNT_T',\n",
       "       'HR_RC_CNT_T', 'SJ_S1F_ORD', 'SJ_1C_ORD', 'SJ_2C_ORD', 'SJ_3C_ORD',\n",
       "       'SJ_G3F_ORD', 'SJ_4C_ORD', 'SJ_G1F_ORD', 'SE_S1F_ACC_TIME',\n",
       "       'SE_1C_ACC_TIME', 'SE_2C_ACC_TIME', 'SE_3C_ACC_TIME', 'SE_G3F_ACC_TIME',\n",
       "       'SE_4C_ACC_TIME', 'SE_G1F_ACC_TIME', 'JE_S1F_TIME', 'JE_1C_TIME',\n",
       "       'JE_2C_TIME', 'JE_3C_TIME', 'JE_G3F_TIME', 'JE_4C_TIME', 'JE_G1F_TIME',\n",
       "       'BU_S1F_ORD', 'BU_G8F_ORD', 'BU_G6F_ORD', 'BU_G4F_ORD', 'BU_G3F_ORD',\n",
       "       'BU_G2F_ORD', 'BU_G1F_ORD', 'BU_S1F_TIME', 'BU_10-8F_TIME',\n",
       "       'BU_8-6F_TIME', 'BU_6-4F_TIME', 'BU_4-2F_TIME', 'BU_2F-G_TIME',\n",
       "       'BU_3F-G_TIME', 'BU_1F-G_TIME', 'BU_S1F_ACC_TIME', 'BU_G8F_ACC_TIME',\n",
       "       'BU_G6F_ACC_TIME', 'BU_G4F_ACC_TIME', 'BU_G3F_ACC_TIME',\n",
       "       'BU_G2F_ACC_TIME', 'BU_G1F_ACC_TIME'],\n",
       "      dtype='object')"
      ]
     },
     "execution_count": 5,
     "metadata": {},
     "output_type": "execute_result"
    }
   ],
   "source": [
    "df.columns"
   ]
  },
  {
   "cell_type": "code",
   "execution_count": 29,
   "metadata": {},
   "outputs": [],
   "source": [
    "#print(df['MEET'].unique())\n",
    "#print(df['RANK'].unique())\n",
    "\n",
    "new_data = df[df['RANK'] != '-']"
   ]
  },
  {
   "cell_type": "code",
   "execution_count": 33,
   "metadata": {},
   "outputs": [
    {
     "data": {
      "text/plain": [
       "array(['제6등급', '제5등급', '제4등급', '제2등급', '제3등급', '제1등급', '제OPEN', '한2등급',\n",
       "       '한1등급', '한3등급', '한OPEN', '한4등급', '한오픈', '제오픈', '국6등급', '국5등급',\n",
       "       '국4등급', '혼OPEN', '국3등급', '혼4등급', '2등급', '혼3등급', '1등급', '국OPEN'],\n",
       "      dtype=object)"
      ]
     },
     "execution_count": 33,
     "metadata": {},
     "output_type": "execute_result"
    }
   ],
   "source": [
    "new_data['RANK'].unique()"
   ]
  },
  {
   "cell_type": "code",
   "execution_count": 34,
   "metadata": {},
   "outputs": [
    {
     "data": {
      "text/plain": [
       "array([ 1,  2,  3,  4,  5,  6,  7,  8,  9, 10, 94, 99, 95, 92, 11, 12, 91,\n",
       "       93, 13, 14, 15, 16])"
      ]
     },
     "execution_count": 34,
     "metadata": {},
     "output_type": "execute_result"
    }
   ],
   "source": [
    "new_data['ORD'].unique()"
   ]
  },
  {
   "cell_type": "code",
   "execution_count": 9,
   "metadata": {},
   "outputs": [],
   "source": [
    "data = df.loc[:,['MEET', 'RC_DATE', 'RC_DIST', 'RANK', 'WEATHER', 'TR_CON',\n",
    "       'TR_WC', 'ORD', 'CHUL_NO', 'HR_NAME']]"
   ]
  },
  {
   "cell_type": "code",
   "execution_count": 10,
   "metadata": {},
   "outputs": [
    {
     "data": {
      "text/html": [
       "<div>\n",
       "<style scoped>\n",
       "    .dataframe tbody tr th:only-of-type {\n",
       "        vertical-align: middle;\n",
       "    }\n",
       "\n",
       "    .dataframe tbody tr th {\n",
       "        vertical-align: top;\n",
       "    }\n",
       "\n",
       "    .dataframe thead th {\n",
       "        text-align: right;\n",
       "    }\n",
       "</style>\n",
       "<table border=\"1\" class=\"dataframe\">\n",
       "  <thead>\n",
       "    <tr style=\"text-align: right;\">\n",
       "      <th></th>\n",
       "      <th>MEET</th>\n",
       "      <th>RC_DATE</th>\n",
       "      <th>RC_DIST</th>\n",
       "      <th>RANK</th>\n",
       "      <th>WEATHER</th>\n",
       "      <th>TR_CON</th>\n",
       "      <th>TR_WC</th>\n",
       "      <th>ORD</th>\n",
       "      <th>CHUL_NO</th>\n",
       "      <th>HR_NAME</th>\n",
       "    </tr>\n",
       "  </thead>\n",
       "  <tbody>\n",
       "    <tr>\n",
       "      <th>0</th>\n",
       "      <td>제주</td>\n",
       "      <td>20230701</td>\n",
       "      <td>800</td>\n",
       "      <td>제6등급</td>\n",
       "      <td>흐림</td>\n",
       "      <td>포화</td>\n",
       "      <td>18</td>\n",
       "      <td>1</td>\n",
       "      <td>9</td>\n",
       "      <td>한백제왕</td>\n",
       "    </tr>\n",
       "    <tr>\n",
       "      <th>1</th>\n",
       "      <td>제주</td>\n",
       "      <td>20230701</td>\n",
       "      <td>800</td>\n",
       "      <td>제6등급</td>\n",
       "      <td>흐림</td>\n",
       "      <td>포화</td>\n",
       "      <td>18</td>\n",
       "      <td>2</td>\n",
       "      <td>2</td>\n",
       "      <td>명의로운</td>\n",
       "    </tr>\n",
       "    <tr>\n",
       "      <th>2</th>\n",
       "      <td>제주</td>\n",
       "      <td>20230701</td>\n",
       "      <td>800</td>\n",
       "      <td>제6등급</td>\n",
       "      <td>흐림</td>\n",
       "      <td>포화</td>\n",
       "      <td>18</td>\n",
       "      <td>3</td>\n",
       "      <td>3</td>\n",
       "      <td>번개의꿈</td>\n",
       "    </tr>\n",
       "    <tr>\n",
       "      <th>3</th>\n",
       "      <td>제주</td>\n",
       "      <td>20230701</td>\n",
       "      <td>800</td>\n",
       "      <td>제6등급</td>\n",
       "      <td>흐림</td>\n",
       "      <td>포화</td>\n",
       "      <td>18</td>\n",
       "      <td>4</td>\n",
       "      <td>6</td>\n",
       "      <td>고차원</td>\n",
       "    </tr>\n",
       "    <tr>\n",
       "      <th>4</th>\n",
       "      <td>제주</td>\n",
       "      <td>20230701</td>\n",
       "      <td>800</td>\n",
       "      <td>제6등급</td>\n",
       "      <td>흐림</td>\n",
       "      <td>포화</td>\n",
       "      <td>18</td>\n",
       "      <td>5</td>\n",
       "      <td>1</td>\n",
       "      <td>위너고</td>\n",
       "    </tr>\n",
       "  </tbody>\n",
       "</table>\n",
       "</div>"
      ],
      "text/plain": [
       "  MEET   RC_DATE RC_DIST  RANK WEATHER TR_CON  TR_WC  ORD  CHUL_NO HR_NAME\n",
       "0   제주  20230701     800  제6등급      흐림     포화     18    1        9    한백제왕\n",
       "1   제주  20230701     800  제6등급      흐림     포화     18    2        2    명의로운\n",
       "2   제주  20230701     800  제6등급      흐림     포화     18    3        3    번개의꿈\n",
       "3   제주  20230701     800  제6등급      흐림     포화     18    4        6     고차원\n",
       "4   제주  20230701     800  제6등급      흐림     포화     18    5        1     위너고"
      ]
     },
     "execution_count": 10,
     "metadata": {},
     "output_type": "execute_result"
    }
   ],
   "source": [
    "data.head()"
   ]
  },
  {
   "cell_type": "code",
   "execution_count": 35,
   "metadata": {},
   "outputs": [],
   "source": [
    "new_data = new_data[new_data['ORD'].map(lambda v: v not in np.arange(91, 100))]"
   ]
  },
  {
   "cell_type": "code",
   "execution_count": 36,
   "metadata": {},
   "outputs": [
    {
     "data": {
      "text/plain": [
       "array([ 1,  2,  3,  4,  5,  6,  7,  8,  9, 10, 11, 12, 13, 14, 15, 16])"
      ]
     },
     "execution_count": 36,
     "metadata": {},
     "output_type": "execute_result"
    }
   ],
   "source": [
    "new_data['ORD'].unique()"
   ]
  },
  {
   "cell_type": "code",
   "execution_count": null,
   "metadata": {},
   "outputs": [],
   "source": [
    "#new_data.to_csv('raw_v1.2.csv', index=False, encoding='utf-8-sig')"
   ]
  },
  {
   "cell_type": "code",
   "execution_count": null,
   "metadata": {},
   "outputs": [],
   "source": []
  }
 ],
 "metadata": {
  "kernelspec": {
   "display_name": "human-da-env",
   "language": "python",
   "name": "python3"
  },
  "language_info": {
   "codemirror_mode": {
    "name": "ipython",
    "version": 3
   },
   "file_extension": ".py",
   "mimetype": "text/x-python",
   "name": "python",
   "nbconvert_exporter": "python",
   "pygments_lexer": "ipython3",
   "version": "3.12.7"
  }
 },
 "nbformat": 4,
 "nbformat_minor": 2
}
