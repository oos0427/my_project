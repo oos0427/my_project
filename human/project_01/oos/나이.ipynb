{
 "cells": [
  {
   "cell_type": "code",
   "execution_count": null,
   "metadata": {},
   "outputs": [
    {
     "name": "stderr",
     "output_type": "stream",
     "text": [
      "C:\\Users\\human\\AppData\\Local\\Temp\\ipykernel_14652\\3657571614.py:5: DtypeWarning: Columns (1,2,3,7,8,10,13,15,16,17,18,19,20,21,23,25,26,27,28,29,30,31,32,33,35,36,37,38,39,40,41,42,43,44,45,46) have mixed types. Specify dtype option on import or set low_memory=False.\n",
      "  df = pd.read_csv('horse1.csv', encoding='euc-kr')\n"
     ]
    }
   ],
   "source": [
    "import pandas as pd\n",
    "import matplotlib.pyplot as plt\n",
    "\n",
    "# CSV 파일을 특정 인코딩으로 읽기 (예: EUC-KR)\n",
    "# df = pd.read_csv('horse1.csv', encoding='euc-kr')\n",
    "\n",
    "# 다른 인코딩으로 저장하기 (예: UTF-8)\n",
    "# df.to_csv('horse-2.csv', encoding='utf-8', index=False)"
   ]
  },
  {
   "cell_type": "code",
   "execution_count": 3,
   "metadata": {},
   "outputs": [
    {
     "name": "stderr",
     "output_type": "stream",
     "text": [
      "C:\\Users\\human\\AppData\\Local\\Temp\\ipykernel_14652\\1529248877.py:1: DtypeWarning: Columns (1,2,3,7,8,10,13,15,16,17,18,19,20,21,23,25,26,27,28,29,30,31,32,33,35,36,37,38,39,40,41,42,43,44,45,46) have mixed types. Specify dtype option on import or set low_memory=False.\n",
      "  h_dt = pd.read_csv('horse-2.csv')\n"
     ]
    }
   ],
   "source": [
    "h_dt = pd.read_csv('horse-2.csv')"
   ]
  },
  {
   "cell_type": "code",
   "execution_count": 5,
   "metadata": {},
   "outputs": [],
   "source": [
    "h_dt = h_dt.drop(index=0)"
   ]
  },
  {
   "cell_type": "code",
   "execution_count": 6,
   "metadata": {},
   "outputs": [
    {
     "data": {
      "text/plain": [
       "1        흐림\n",
       "2        흐림\n",
       "3        흐림\n",
       "4        흐림\n",
       "5        흐림\n",
       "         ..\n",
       "63289    맑음\n",
       "63290    맑음\n",
       "63291    맑음\n",
       "63292    맑음\n",
       "63293    맑음\n",
       "Name: WEATHER, Length: 63293, dtype: object"
      ]
     },
     "execution_count": 6,
     "metadata": {},
     "output_type": "execute_result"
    }
   ],
   "source": [
    "h_dt['WEATHER']"
   ]
  },
  {
   "cell_type": "code",
   "execution_count": 7,
   "metadata": {},
   "outputs": [
    {
     "data": {
      "text/plain": [
       "'흐림,안개,맑음,비,눈,-,강풍'"
      ]
     },
     "execution_count": 7,
     "metadata": {},
     "output_type": "execute_result"
    }
   ],
   "source": [
    "','.join(h_dt['WEATHER'].drop_duplicates().values)"
   ]
  },
  {
   "cell_type": "code",
   "execution_count": 14,
   "metadata": {},
   "outputs": [],
   "source": [
    "import matplotlib.pyplot as plt\n",
    "import matplotlib.font_manager as fm"
   ]
  },
  {
   "cell_type": "code",
   "execution_count": 20,
   "metadata": {},
   "outputs": [
    {
     "data": {
      "text/plain": [
       "Index(['맑음', '흐림', '비', '안개', '눈', '-', '강풍'], dtype='object', name='WEATHER')"
      ]
     },
     "execution_count": 20,
     "metadata": {},
     "output_type": "execute_result"
    }
   ],
   "source": [
    "type(weather)\n",
    "weather.index"
   ]
  },
  {
   "cell_type": "code",
   "execution_count": 30,
   "metadata": {},
   "outputs": [
    {
     "data": {
      "image/png": "[encoded data removed]",
      "text/plain": [
       "<Figure size 640x480 with 1 Axes>"
      ]
     },
     "metadata": {},
     "output_type": "display_data"
    }
   ],
   "source": [
    "# 한글 폰트 설정\n",
    "font_path = \"C:/Windows/Fonts/malgun.ttf\"  # Windows에서 사용하는 한글 폰트 경로\n",
    "font_prop = fm.FontProperties(fname=font_path)\n",
    "\n",
    "\n",
    "weather = h_dt['WEATHER'].value_counts()\n",
    "\n",
    "# 막대 그래프 그리기\n",
    "# weather.plot(kind='bar')\n",
    "plt.bar(weather.index.values, weather.values)\n",
    "plt.title('Frequency of Weather Conditions')\n",
    "plt.xlabel('Weather Condition')\n",
    "plt.ylabel('Frequency')\n",
    "# plt.tight_layout()\n",
    "plt.xticks(rotation=45, fontproperties=font_prop)\n",
    "plt.show()"
   ]
  },
  {
   "cell_type": "markdown",
   "metadata": {},
   "source": [
    "### 날씨 : 1등 한 경마"
   ]
  },
  {
   "cell_type": "code",
   "execution_count": 36,
   "metadata": {},
   "outputs": [
    {
     "data": {
      "text/plain": [
       "WEATHER  ORD\n",
       "-        94       2\n",
       "         95       1\n",
       "         99     342\n",
       "         99      60\n",
       "강풍       1        3\n",
       "               ... \n",
       "흐림       9      279\n",
       "         91       1\n",
       "         92       1\n",
       "         94      26\n",
       "         95       7\n",
       "Name: HR_NAME, Length: 183, dtype: int64"
      ]
     },
     "execution_count": 36,
     "metadata": {},
     "output_type": "execute_result"
    }
   ],
   "source": [
    "h_dt2 = h_dt.groupby(['WEATHER', 'ORD'])[\"HR_NAME\"].count()\n",
    "h_dt2"
   ]
  },
  {
   "cell_type": "code",
   "execution_count": 41,
   "metadata": {},
   "outputs": [],
   "source": [
    "h_dt2 = h_dt2.reset_index()"
   ]
  },
  {
   "cell_type": "code",
   "execution_count": 42,
   "metadata": {},
   "outputs": [
    {
     "data": {
      "text/html": [
       "<div>\n",
       "<style scoped>\n",
       "    .dataframe tbody tr th:only-of-type {\n",
       "        vertical-align: middle;\n",
       "    }\n",
       "\n",
       "    .dataframe tbody tr th {\n",
       "        vertical-align: top;\n",
       "    }\n",
       "\n",
       "    .dataframe thead th {\n",
       "        text-align: right;\n",
       "    }\n",
       "</style>\n",
       "<table border=\"1\" class=\"dataframe\">\n",
       "  <thead>\n",
       "    <tr style=\"text-align: right;\">\n",
       "      <th></th>\n",
       "      <th>WEATHER</th>\n",
       "      <th>ORD</th>\n",
       "      <th>HR_NAME</th>\n",
       "    </tr>\n",
       "  </thead>\n",
       "  <tbody>\n",
       "    <tr>\n",
       "      <th>4</th>\n",
       "      <td>강풍</td>\n",
       "      <td>1</td>\n",
       "      <td>3</td>\n",
       "    </tr>\n",
       "    <tr>\n",
       "      <th>17</th>\n",
       "      <td>눈</td>\n",
       "      <td>1</td>\n",
       "      <td>16</td>\n",
       "    </tr>\n",
       "    <tr>\n",
       "      <th>45</th>\n",
       "      <td>맑음</td>\n",
       "      <td>1</td>\n",
       "      <td>3025</td>\n",
       "    </tr>\n",
       "    <tr>\n",
       "      <th>82</th>\n",
       "      <td>비</td>\n",
       "      <td>1</td>\n",
       "      <td>241</td>\n",
       "    </tr>\n",
       "    <tr>\n",
       "      <th>117</th>\n",
       "      <td>안개</td>\n",
       "      <td>1</td>\n",
       "      <td>21</td>\n",
       "    </tr>\n",
       "    <tr>\n",
       "      <th>146</th>\n",
       "      <td>흐림</td>\n",
       "      <td>1</td>\n",
       "      <td>934</td>\n",
       "    </tr>\n",
       "  </tbody>\n",
       "</table>\n",
       "</div>"
      ],
      "text/plain": [
       "    WEATHER ORD  HR_NAME\n",
       "4        강풍   1        3\n",
       "17        눈   1       16\n",
       "45       맑음   1     3025\n",
       "82        비   1      241\n",
       "117      안개   1       21\n",
       "146      흐림   1      934"
      ]
     },
     "execution_count": 42,
     "metadata": {},
     "output_type": "execute_result"
    }
   ],
   "source": [
    "h_dt2[h_dt2[\"ORD\"] == 1]"
   ]
  },
  {
   "cell_type": "code",
   "execution_count": 46,
   "metadata": {},
   "outputs": [
    {
     "data": {
      "image/png": "[encoded data removed]",
      "text/plain": [
       "<Figure size 640x480 with 1 Axes>"
      ]
     },
     "metadata": {},
     "output_type": "display_data"
    }
   ],
   "source": [
    "weather1 = h_dt2[h_dt2[\"ORD\"] == 1]\n",
    "\n",
    "plt.bar(weather1[\"WEATHER\"], weather1[\"HR_NAME\"])\n",
    "plt.title('weather:1')\n",
    "plt.xlabel('Weather')\n",
    "plt.ylabel('1')\n",
    "# plt.tight_layout()\n",
    "plt.xticks(rotation=45, fontproperties=font_prop)\n",
    "plt.show()"
   ]
  },
  {
   "cell_type": "markdown",
   "metadata": {},
   "source": [
    "### age : 1등 한 경마"
   ]
  },
  {
   "cell_type": "code",
   "execution_count": 47,
   "metadata": {},
   "outputs": [
    {
     "data": {
      "text/plain": [
       "AGE  ORD\n",
       "2    1      512\n",
       "     2      404\n",
       "     3      346\n",
       "     4      330\n",
       "     5      330\n",
       "           ... \n",
       "9    9       56\n",
       "     92       1\n",
       "     94       3\n",
       "     95       2\n",
       "     99       7\n",
       "Name: HR_NAME, Length: 438, dtype: int64"
      ]
     },
     "execution_count": 47,
     "metadata": {},
     "output_type": "execute_result"
    }
   ],
   "source": [
    "h_dt3 = h_dt.groupby(['AGE', 'ORD'])[\"HR_NAME\"].count()\n",
    "h_dt3"
   ]
  },
  {
   "cell_type": "code",
   "execution_count": 49,
   "metadata": {},
   "outputs": [],
   "source": [
    "h_dt3 = h_dt3.reset_index()"
   ]
  },
  {
   "cell_type": "code",
   "execution_count": 50,
   "metadata": {},
   "outputs": [
    {
     "data": {
      "text/html": [
       "<div>\n",
       "<style scoped>\n",
       "    .dataframe tbody tr th:only-of-type {\n",
       "        vertical-align: middle;\n",
       "    }\n",
       "\n",
       "    .dataframe tbody tr th {\n",
       "        vertical-align: top;\n",
       "    }\n",
       "\n",
       "    .dataframe thead th {\n",
       "        text-align: right;\n",
       "    }\n",
       "</style>\n",
       "<table border=\"1\" class=\"dataframe\">\n",
       "  <thead>\n",
       "    <tr style=\"text-align: right;\">\n",
       "      <th></th>\n",
       "      <th>index</th>\n",
       "      <th>AGE</th>\n",
       "      <th>ORD</th>\n",
       "      <th>HR_NAME</th>\n",
       "    </tr>\n",
       "  </thead>\n",
       "  <tbody>\n",
       "    <tr>\n",
       "      <th>0</th>\n",
       "      <td>0</td>\n",
       "      <td>2</td>\n",
       "      <td>1</td>\n",
       "      <td>512</td>\n",
       "    </tr>\n",
       "    <tr>\n",
       "      <th>21</th>\n",
       "      <td>21</td>\n",
       "      <td>3</td>\n",
       "      <td>1</td>\n",
       "      <td>1998</td>\n",
       "    </tr>\n",
       "    <tr>\n",
       "      <th>43</th>\n",
       "      <td>43</td>\n",
       "      <td>4</td>\n",
       "      <td>1</td>\n",
       "      <td>1113</td>\n",
       "    </tr>\n",
       "    <tr>\n",
       "      <th>65</th>\n",
       "      <td>65</td>\n",
       "      <td>5</td>\n",
       "      <td>1</td>\n",
       "      <td>371</td>\n",
       "    </tr>\n",
       "    <tr>\n",
       "      <th>87</th>\n",
       "      <td>87</td>\n",
       "      <td>6</td>\n",
       "      <td>1</td>\n",
       "      <td>128</td>\n",
       "    </tr>\n",
       "    <tr>\n",
       "      <th>108</th>\n",
       "      <td>108</td>\n",
       "      <td>7</td>\n",
       "      <td>1</td>\n",
       "      <td>65</td>\n",
       "    </tr>\n",
       "    <tr>\n",
       "      <th>127</th>\n",
       "      <td>127</td>\n",
       "      <td>8</td>\n",
       "      <td>1</td>\n",
       "      <td>19</td>\n",
       "    </tr>\n",
       "    <tr>\n",
       "      <th>145</th>\n",
       "      <td>145</td>\n",
       "      <td>9</td>\n",
       "      <td>1</td>\n",
       "      <td>11</td>\n",
       "    </tr>\n",
       "    <tr>\n",
       "      <th>161</th>\n",
       "      <td>161</td>\n",
       "      <td>10</td>\n",
       "      <td>1</td>\n",
       "      <td>11</td>\n",
       "    </tr>\n",
       "    <tr>\n",
       "      <th>175</th>\n",
       "      <td>175</td>\n",
       "      <td>11</td>\n",
       "      <td>1</td>\n",
       "      <td>8</td>\n",
       "    </tr>\n",
       "    <tr>\n",
       "      <th>187</th>\n",
       "      <td>187</td>\n",
       "      <td>12</td>\n",
       "      <td>1</td>\n",
       "      <td>1</td>\n",
       "    </tr>\n",
       "    <tr>\n",
       "      <th>198</th>\n",
       "      <td>198</td>\n",
       "      <td>13</td>\n",
       "      <td>1</td>\n",
       "      <td>3</td>\n",
       "    </tr>\n",
       "  </tbody>\n",
       "</table>\n",
       "</div>"
      ],
      "text/plain": [
       "     index AGE ORD  HR_NAME\n",
       "0        0   2   1      512\n",
       "21      21   3   1     1998\n",
       "43      43   4   1     1113\n",
       "65      65   5   1      371\n",
       "87      87   6   1      128\n",
       "108    108   7   1       65\n",
       "127    127   8   1       19\n",
       "145    145   9   1       11\n",
       "161    161  10   1       11\n",
       "175    175  11   1        8\n",
       "187    187  12   1        1\n",
       "198    198  13   1        3"
      ]
     },
     "execution_count": 50,
     "metadata": {},
     "output_type": "execute_result"
    }
   ],
   "source": [
    "h_dt3[h_dt3[\"ORD\"] == 1]"
   ]
  },
  {
   "cell_type": "code",
   "execution_count": null,
   "metadata": {},
   "outputs": [
    {
     "data": {
      "image/png": "[encoded data removed]",
      "text/plain": [
       "<Figure size 640x480 with 1 Axes>"
      ]
     },
     "metadata": {},
     "output_type": "display_data"
    }
   ],
   "source": [
    "plt.rcParams['font.family'] = 'Malgun Gothic'\n",
    "plt.rcParams['font.size'] = 14\n",
    "\n",
    "age = h_dt3[h_dt3[\"ORD\"] == 1]\n",
    "\n",
    "plt.bar(age[\"AGE\"], age[\"HR_NAME\"])\n",
    "plt.title('age:1')\n",
    "plt.xlabel('age')\n",
    "plt.ylabel('1')\n",
    "# plt.tight_layout()\n",
    "plt.xticks(rotation=45, fontproperties=font_prop)\n",
    "plt.show()"
   ]
  }
 ],
 "metadata": {
  "kernelspec": {
   "display_name": "human-da-env",
   "language": "python",
   "name": "python3"
  },
  "language_info": {
   "codemirror_mode": {
    "name": "ipython",
    "version": 3
   },
   "file_extension": ".py",
   "mimetype": "text/x-python",
   "name": "python",
   "nbconvert_exporter": "python",
   "pygments_lexer": "ipython3",
   "version": "3.12.7"
  }
 },
 "nbformat": 4,
 "nbformat_minor": 2
}
