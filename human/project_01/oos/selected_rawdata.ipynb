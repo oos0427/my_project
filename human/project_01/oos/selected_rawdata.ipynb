{
 "cells": [
  {
   "cell_type": "code",
   "execution_count": 1,
   "metadata": {},
   "outputs": [],
   "source": [
    "import pandas as pd\n",
    "import numpy as np\n",
    "import matplotlib.pyplot as plt\n",
    "import seaborn"
   ]
  },
  {
   "cell_type": "code",
   "execution_count": 3,
   "metadata": {},
   "outputs": [],
   "source": [
    "df = pd.read_csv('source/no_open.csv')"
   ]
  },
  {
   "cell_type": "code",
   "execution_count": 5,
   "metadata": {},
   "outputs": [
    {
     "data": {
      "text/plain": [
       "Index(['MEET', 'RC_DATE', 'RC_NO', 'RC_DIST', 'RANK', 'WEATHER', 'TR_CON',\n",
       "       'TR_WC', 'ORD', 'CHUL_NO', 'HR_NAME', 'HR_NO', 'NAME', 'PRD_NAME',\n",
       "       'AGE', 'SEX', 'horse_weight', 'weight_gain', 'RC_TIME', 'ORD1_CNT_T',\n",
       "       'ORD2_CNT_T', 'RC_CNT_T', 'ORD1_CNT_Y', 'ORD2_CNT_Y', 'RC_CNT_Y',\n",
       "       'WG_BUDAM', 'JK_NAME', 'JK_NO', 'JK_AGE', 'JK_CAREER', 'JK_ORD1_CNT_T',\n",
       "       'JK_ORD2_CNT_T', 'JK_RC_CNT_T', 'JK_ORD1_CNT_Y', 'JK_ORD2_CNT_Y',\n",
       "       'JK_RC_CNT_Y', 'TR_NAME', 'TR_NO', 'TR_AGE', 'TR_CAREER',\n",
       "       'TR_ORD1_CNT_T', 'TR_ORD2_CNT_T', 'TR_RC_CNT_T', 'TR_ORD1_CNT_Y',\n",
       "       'TR_ORD2_CNT_Y', 'TR_RC_CNT_Y', 'HR_ORD1_CNT_T', 'HR_ORD2_CNT_T',\n",
       "       'HR_RC_CNT_T', 'SJ_S1F_ORD', 'SJ_1C_ORD', 'SJ_2C_ORD', 'SJ_3C_ORD',\n",
       "       'SJ_G3F_ORD', 'SJ_4C_ORD', 'SJ_G1F_ORD', 'SE_S1F_ACC_TIME',\n",
       "       'SE_1C_ACC_TIME', 'SE_2C_ACC_TIME', 'SE_3C_ACC_TIME', 'SE_G3F_ACC_TIME',\n",
       "       'SE_4C_ACC_TIME', 'SE_G1F_ACC_TIME', 'JE_S1F_TIME', 'JE_1C_TIME',\n",
       "       'JE_2C_TIME', 'JE_3C_TIME', 'JE_G3F_TIME', 'JE_4C_TIME', 'JE_G1F_TIME',\n",
       "       'BU_S1F_ORD', 'BU_G8F_ORD', 'BU_G6F_ORD', 'BU_G4F_ORD', 'BU_G3F_ORD',\n",
       "       'BU_G2F_ORD', 'BU_G1F_ORD', 'BU_S1F_TIME', 'BU_10-8F_TIME',\n",
       "       'BU_8-6F_TIME', 'BU_6-4F_TIME', 'BU_4-2F_TIME', 'BU_2F-G_TIME',\n",
       "       'BU_3F-G_TIME', 'BU_1F-G_TIME', 'BU_S1F_ACC_TIME', 'BU_G8F_ACC_TIME',\n",
       "       'BU_G6F_ACC_TIME', 'BU_G4F_ACC_TIME', 'BU_G3F_ACC_TIME',\n",
       "       'BU_G2F_ACC_TIME', 'BU_G1F_ACC_TIME'],\n",
       "      dtype='object')"
      ]
     },
     "execution_count": 5,
     "metadata": {},
     "output_type": "execute_result"
    }
   ],
   "source": [
    "df.columns"
   ]
  },
  {
   "cell_type": "code",
   "execution_count": 7,
   "metadata": {},
   "outputs": [
    {
     "data": {
      "text/plain": [
       "487"
      ]
     },
     "execution_count": 7,
     "metadata": {},
     "output_type": "execute_result"
    }
   ],
   "source": [
    "drop_duplicate = df.groupby(['MEET', 'RC_DATE', 'RC_NO', 'ORD', 'HR_NAME'])['RANK'].count()\n",
    "drop_duplicate2 = drop_duplicate.reset_index()\n",
    "len(drop_duplicate2[drop_duplicate2['RANK'] > 1].index)"
   ]
  },
  {
   "cell_type": "code",
   "execution_count": 8,
   "metadata": {},
   "outputs": [
    {
     "data": {
      "text/plain": [
       "(55236, 5)"
      ]
     },
     "execution_count": 8,
     "metadata": {},
     "output_type": "execute_result"
    }
   ],
   "source": [
    "df[['MEET', 'RC_DATE', 'RC_NO', 'ORD', 'HR_NAME']].shape"
   ]
  },
  {
   "cell_type": "code",
   "execution_count": 15,
   "metadata": {},
   "outputs": [],
   "source": [
    "# 드랍하고 남은 인덱스를 가져오기\n",
    "index_to_select = df[['MEET', 'RC_DATE', 'RC_NO', 'ORD', 'HR_NAME']].drop_duplicates().index"
   ]
  },
  {
   "cell_type": "code",
   "execution_count": 16,
   "metadata": {},
   "outputs": [
    {
     "name": "stdout",
     "output_type": "stream",
     "text": [
      "(54749, 92)\n"
     ]
    }
   ],
   "source": [
    "# 드랍하고 남은 인덱스를 이용해서 원본에서 행선택\n",
    "print(df.loc[index_to_select, :].shape)\n",
    "selected_ord = df.loc[index_to_select, :]"
   ]
  },
  {
   "cell_type": "code",
   "execution_count": 11,
   "metadata": {},
   "outputs": [
    {
     "data": {
      "text/plain": [
       "487"
      ]
     },
     "execution_count": 11,
     "metadata": {},
     "output_type": "execute_result"
    }
   ],
   "source": [
    "55236 - 54749 "
   ]
  },
  {
   "cell_type": "code",
   "execution_count": 14,
   "metadata": {},
   "outputs": [],
   "source": [
    "selected_ord.to_csv('raw_vol2.0.csv', index=False, encoding='utf-8-sig')"
   ]
  },
  {
   "cell_type": "code",
   "execution_count": 17,
   "metadata": {},
   "outputs": [
    {
     "data": {
      "text/plain": [
       "0"
      ]
     },
     "execution_count": 17,
     "metadata": {},
     "output_type": "execute_result"
    }
   ],
   "source": [
    "drop_duplicate = selected_ord.groupby(['MEET', 'RC_DATE', 'RC_NO', 'ORD', 'HR_NAME'])['RANK'].count()\n",
    "drop_duplicate2 = drop_duplicate.reset_index()\n",
    "len(drop_duplicate2[drop_duplicate2['RANK'] > 1].index)"
   ]
  }
 ],
 "metadata": {
  "kernelspec": {
   "display_name": "human-da-env",
   "language": "python",
   "name": "python3"
  },
  "language_info": {
   "codemirror_mode": {
    "name": "ipython",
    "version": 3
   },
   "file_extension": ".py",
   "mimetype": "text/x-python",
   "name": "python",
   "nbconvert_exporter": "python",
   "pygments_lexer": "ipython3",
   "version": "3.12.7"
  }
 },
 "nbformat": 4,
 "nbformat_minor": 2
}
