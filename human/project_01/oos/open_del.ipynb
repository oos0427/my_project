{
 "cells": [
  {
   "cell_type": "code",
   "execution_count": 2,
   "metadata": {},
   "outputs": [],
   "source": [
    "import pandas as pd\n",
    "import numpy as np\n",
    "import matplotlib.pyplot as plt\n",
    "import seaborn as sns\n",
    "from scipy.stats import pearsonr, spearmanr, kendalltau"
   ]
  },
  {
   "cell_type": "code",
   "execution_count": 3,
   "metadata": {},
   "outputs": [],
   "source": [
    "df = pd.read_csv('source/rawdata_v1.2.csv')"
   ]
  },
  {
   "cell_type": "code",
   "execution_count": 4,
   "metadata": {},
   "outputs": [
    {
     "data": {
      "text/plain": [
       "array(['제6등급', '제5등급', '제4등급', '제2등급', '제3등급', '제1등급', '제OPEN', '한2등급',\n",
       "       '한1등급', '한3등급', '한OPEN', '한4등급', '한오픈', '제오픈', '국6등급', '국5등급',\n",
       "       '국4등급', '혼OPEN', '국3등급', '혼4등급', '2등급', '혼3등급', '1등급', '국OPEN'],\n",
       "      dtype=object)"
      ]
     },
     "execution_count": 4,
     "metadata": {},
     "output_type": "execute_result"
    }
   ],
   "source": [
    "df['RANK'].unique()"
   ]
  },
  {
   "cell_type": "code",
   "execution_count": 5,
   "metadata": {},
   "outputs": [],
   "source": [
    "valid_ranks = ['제6등급', '제5등급', '제4등급', '제2등급', '제3등급', '제1등급', '한2등급', '한1등급', '한3등급', '한4등급', '국6등급', '국5등급', '국4등급', '국3등급', '2등급', '1등급']\n",
    "filtered_df = df[df['RANK'].isin(valid_ranks)]"
   ]
  },
  {
   "cell_type": "code",
   "execution_count": 6,
   "metadata": {},
   "outputs": [
    {
     "data": {
      "text/plain": [
       "array(['제6등급', '제5등급', '제4등급', '제2등급', '제3등급', '제1등급', '한2등급', '한1등급',\n",
       "       '한3등급', '한4등급', '국6등급', '국5등급', '국4등급', '국3등급', '2등급', '1등급'],\n",
       "      dtype=object)"
      ]
     },
     "execution_count": 6,
     "metadata": {},
     "output_type": "execute_result"
    }
   ],
   "source": [
    "filtered_df['RANK'].unique()"
   ]
  },
  {
   "cell_type": "code",
   "execution_count": 7,
   "metadata": {},
   "outputs": [
    {
     "name": "stderr",
     "output_type": "stream",
     "text": [
      "C:\\Users\\Public\\Documents\\ESTsoft\\CreatorTemp\\ipykernel_4692\\2133995719.py:1: SettingWithCopyWarning: \n",
      "A value is trying to be set on a copy of a slice from a DataFrame.\n",
      "Try using .loc[row_indexer,col_indexer] = value instead\n",
      "\n",
      "See the caveats in the documentation: https://pandas.pydata.org/pandas-docs/stable/user_guide/indexing.html#returning-a-view-versus-a-copy\n",
      "  filtered_df['RANK'] = filtered_df['RANK'].replace({'1등급': '국1등급', '2등급': '국2등급'})\n"
     ]
    }
   ],
   "source": [
    "filtered_df['RANK'] = filtered_df['RANK'].replace({'1등급': '국1등급', '2등급': '국2등급'})"
   ]
  },
  {
   "cell_type": "code",
   "execution_count": 8,
   "metadata": {},
   "outputs": [],
   "source": [
    "#filtered_df.to_csv('no_open.csv', index=False, encoding='utf-8-sig')"
   ]
  },
  {
   "cell_type": "code",
   "execution_count": 9,
   "metadata": {},
   "outputs": [
    {
     "name": "stdout",
     "output_type": "stream",
     "text": [
      "<class 'pandas.core.frame.DataFrame'>\n",
      "Index: 55236 entries, 0 to 61849\n",
      "Data columns (total 92 columns):\n",
      " #   Column           Non-Null Count  Dtype  \n",
      "---  ------           --------------  -----  \n",
      " 0   MEET             55236 non-null  object \n",
      " 1   RC_DATE          55236 non-null  int64  \n",
      " 2   RC_NO            55236 non-null  int64  \n",
      " 3   RC_DIST          55236 non-null  int64  \n",
      " 4   RANK             55236 non-null  object \n",
      " 5   WEATHER          55236 non-null  object \n",
      " 6   TR_CON           55236 non-null  object \n",
      " 7   TR_WC            55236 non-null  int64  \n",
      " 8   ORD              55236 non-null  int64  \n",
      " 9   CHUL_NO          55236 non-null  int64  \n",
      " 10  HR_NAME          55236 non-null  object \n",
      " 11  HR_NO            55236 non-null  int64  \n",
      " 12  NAME             55236 non-null  object \n",
      " 13  PRD_NAME         55236 non-null  object \n",
      " 14  AGE              55236 non-null  int64  \n",
      " 15  SEX              55236 non-null  object \n",
      " 16  horse_weight     55236 non-null  float64\n",
      " 17  weight_gain      55236 non-null  float64\n",
      " 18  RC_TIME          55236 non-null  float64\n",
      " 19  ORD1_CNT_T       55236 non-null  int64  \n",
      " 20  ORD2_CNT_T       55236 non-null  int64  \n",
      " 21  RC_CNT_T         55236 non-null  int64  \n",
      " 22  ORD1_CNT_Y       55236 non-null  int64  \n",
      " 23  ORD2_CNT_Y       55236 non-null  int64  \n",
      " 24  RC_CNT_Y         55236 non-null  int64  \n",
      " 25  WG_BUDAM         55236 non-null  float64\n",
      " 26  JK_NAME          55236 non-null  object \n",
      " 27  JK_NO            55236 non-null  int64  \n",
      " 28  JK_AGE           55236 non-null  int64  \n",
      " 29  JK_CAREER        55236 non-null  int64  \n",
      " 30  JK_ORD1_CNT_T    55236 non-null  int64  \n",
      " 31  JK_ORD2_CNT_T    55236 non-null  int64  \n",
      " 32  JK_RC_CNT_T      55236 non-null  int64  \n",
      " 33  JK_ORD1_CNT_Y    55236 non-null  int64  \n",
      " 34  JK_ORD2_CNT_Y    55236 non-null  int64  \n",
      " 35  JK_RC_CNT_Y      55236 non-null  int64  \n",
      " 36  TR_NAME          55236 non-null  object \n",
      " 37  TR_NO            55236 non-null  float64\n",
      " 38  TR_AGE           0 non-null      float64\n",
      " 39  TR_CAREER        55236 non-null  float64\n",
      " 40  TR_ORD1_CNT_T    55236 non-null  float64\n",
      " 41  TR_ORD2_CNT_T    55236 non-null  float64\n",
      " 42  TR_RC_CNT_T      55236 non-null  float64\n",
      " 43  TR_ORD1_CNT_Y    55236 non-null  float64\n",
      " 44  TR_ORD2_CNT_Y    55236 non-null  float64\n",
      " 45  TR_RC_CNT_Y      55236 non-null  float64\n",
      " 46  HR_ORD1_CNT_T    55236 non-null  float64\n",
      " 47  HR_ORD2_CNT_T    55236 non-null  float64\n",
      " 48  HR_RC_CNT_T      55236 non-null  float64\n",
      " 49  SJ_S1F_ORD       55236 non-null  int64  \n",
      " 50  SJ_1C_ORD        55236 non-null  int64  \n",
      " 51  SJ_2C_ORD        55236 non-null  int64  \n",
      " 52  SJ_3C_ORD        55236 non-null  int64  \n",
      " 53  SJ_G3F_ORD       55236 non-null  int64  \n",
      " 54  SJ_4C_ORD        55236 non-null  int64  \n",
      " 55  SJ_G1F_ORD       55236 non-null  int64  \n",
      " 56  SE_S1F_ACC_TIME  55236 non-null  int64  \n",
      " 57  SE_1C_ACC_TIME   55236 non-null  int64  \n",
      " 58  SE_2C_ACC_TIME   55236 non-null  int64  \n",
      " 59  SE_3C_ACC_TIME   55236 non-null  int64  \n",
      " 60  SE_G3F_ACC_TIME  55236 non-null  int64  \n",
      " 61  SE_4C_ACC_TIME   55236 non-null  int64  \n",
      " 62  SE_G1F_ACC_TIME  55236 non-null  int64  \n",
      " 63  JE_S1F_TIME      55236 non-null  float64\n",
      " 64  JE_1C_TIME       55236 non-null  float64\n",
      " 65  JE_2C_TIME       55236 non-null  float64\n",
      " 66  JE_3C_TIME       55236 non-null  float64\n",
      " 67  JE_G3F_TIME      55236 non-null  float64\n",
      " 68  JE_4C_TIME       55236 non-null  float64\n",
      " 69  JE_G1F_TIME      55236 non-null  float64\n",
      " 70  BU_S1F_ORD       55236 non-null  int64  \n",
      " 71  BU_G8F_ORD       55236 non-null  int64  \n",
      " 72  BU_G6F_ORD       55236 non-null  int64  \n",
      " 73  BU_G4F_ORD       55236 non-null  int64  \n",
      " 74  BU_G3F_ORD       55236 non-null  int64  \n",
      " 75  BU_G2F_ORD       55236 non-null  int64  \n",
      " 76  BU_G1F_ORD       55236 non-null  int64  \n",
      " 77  BU_S1F_TIME      55236 non-null  float64\n",
      " 78  BU_10-8F_TIME    55236 non-null  float64\n",
      " 79  BU_8-6F_TIME     55236 non-null  float64\n",
      " 80  BU_6-4F_TIME     55236 non-null  float64\n",
      " 81  BU_4-2F_TIME     55236 non-null  float64\n",
      " 82  BU_2F-G_TIME     55236 non-null  float64\n",
      " 83  BU_3F-G_TIME     55236 non-null  float64\n",
      " 84  BU_1F-G_TIME     55236 non-null  float64\n",
      " 85  BU_S1F_ACC_TIME  55236 non-null  float64\n",
      " 86  BU_G8F_ACC_TIME  55236 non-null  float64\n",
      " 87  BU_G6F_ACC_TIME  55236 non-null  float64\n",
      " 88  BU_G4F_ACC_TIME  55236 non-null  float64\n",
      " 89  BU_G3F_ACC_TIME  55236 non-null  float64\n",
      " 90  BU_G2F_ACC_TIME  55236 non-null  float64\n",
      " 91  BU_G1F_ACC_TIME  55236 non-null  float64\n",
      "dtypes: float64(38), int64(44), object(10)\n",
      "memory usage: 39.2+ MB\n"
     ]
    }
   ],
   "source": [
    "filtered_df.info()"
   ]
  },
  {
   "cell_type": "code",
   "execution_count": 10,
   "metadata": {},
   "outputs": [
    {
     "data": {
      "text/plain": [
       "array(['제6등급', '제5등급', '제4등급', '제2등급', '제3등급', '제1등급', '한2등급', '한1등급',\n",
       "       '한3등급', '한4등급', '국6등급', '국5등급', '국4등급', '국3등급', '국2등급', '국1등급'],\n",
       "      dtype=object)"
      ]
     },
     "execution_count": 10,
     "metadata": {},
     "output_type": "execute_result"
    }
   ],
   "source": [
    "filtered_df['RANK'].unique()"
   ]
  },
  {
   "cell_type": "code",
   "execution_count": null,
   "metadata": {},
   "outputs": [],
   "source": []
  }
 ],
 "metadata": {
  "kernelspec": {
   "display_name": "human-da-env",
   "language": "python",
   "name": "python3"
  },
  "language_info": {
   "codemirror_mode": {
    "name": "ipython",
    "version": 3
   },
   "file_extension": ".py",
   "mimetype": "text/x-python",
   "name": "python",
   "nbconvert_exporter": "python",
   "pygments_lexer": "ipython3",
   "version": "3.12.7"
  }
 },
 "nbformat": 4,
 "nbformat_minor": 2
}
