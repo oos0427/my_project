{
 "cells": [
  {
   "cell_type": "markdown",
   "metadata": {},
   "source": [
    "<h1>경주정보</h1>\n",
    "rc_datas = 경주정보 전체, 세부내용 아래 인덱스 확인\n",
    "\n",
    "rc_data = 경주정보 \n",
    "\n",
    "['MEET', 'RC_DATE', 'RC_NO', 'RC_DIST', 'RANK', 'WEATHER', 'TR_CON', 'TR_WC', 'ORD', 'CHUL_NO', 'HR_NO', 'JK_NO', 'TR_NO']"
   ]
  },
  {
   "cell_type": "code",
   "execution_count": 20,
   "metadata": {},
   "outputs": [],
   "source": [
    "import pandas as pd"
   ]
  },
  {
   "cell_type": "code",
   "execution_count": 21,
   "metadata": {},
   "outputs": [
    {
     "name": "stderr",
     "output_type": "stream",
     "text": [
      "C:\\Users\\oos04\\AppData\\Local\\Temp\\ipykernel_11956\\3411953672.py:1: DtypeWarning: Columns (3,35) have mixed types. Specify dtype option on import or set low_memory=False.\n",
      "  df = pd.read_csv('source/horse_ecolumn.csv')\n"
     ]
    }
   ],
   "source": [
    "df = pd.read_csv('source/horse_ecolumn.csv')"
   ]
  },
  {
   "cell_type": "code",
   "execution_count": 22,
   "metadata": {},
   "outputs": [],
   "source": [
    "# TRACK 컬럼을 TR_STATE와 TR_WC로 분리\n",
    "df[['TR_CON', 'TR_WC']] = df['TRACK'].str.extract(r'(\\D+)\\s\\((\\d+)%\\)')\n",
    "\n",
    "# NaN 값을 0으로 대체하고 TR_WC 컬럼을 int 타입으로 변환\n",
    "df['TR_WC'] = df['TR_WC'].fillna(0).astype(int)\n",
    "\n",
    "# 원래 TRACK 컬럼 삭제\n",
    "df = df.drop(columns=['TRACK'])\n"
   ]
  },
  {
   "cell_type": "code",
   "execution_count": 23,
   "metadata": {},
   "outputs": [
    {
     "data": {
      "text/html": [
       "<div>\n",
       "<style scoped>\n",
       "    .dataframe tbody tr th:only-of-type {\n",
       "        vertical-align: middle;\n",
       "    }\n",
       "\n",
       "    .dataframe tbody tr th {\n",
       "        vertical-align: top;\n",
       "    }\n",
       "\n",
       "    .dataframe thead th {\n",
       "        text-align: right;\n",
       "    }\n",
       "</style>\n",
       "<table border=\"1\" class=\"dataframe\">\n",
       "  <thead>\n",
       "    <tr style=\"text-align: right;\">\n",
       "      <th></th>\n",
       "      <th>MEET</th>\n",
       "      <th>RC_DATE</th>\n",
       "      <th>RC_NO</th>\n",
       "      <th>RC_DIST</th>\n",
       "      <th>RANK</th>\n",
       "      <th>WEATHER</th>\n",
       "      <th>ORD</th>\n",
       "      <th>CHUL_NO</th>\n",
       "      <th>HR_NAME</th>\n",
       "      <th>HR_NO</th>\n",
       "      <th>...</th>\n",
       "      <th>BU_1F-G_TIME</th>\n",
       "      <th>BU_S1F_ACC_TIME</th>\n",
       "      <th>BU_G8F_ACC_TIME</th>\n",
       "      <th>BU_G6F_ACC_TIME</th>\n",
       "      <th>BU_G4F_ACC_TIME</th>\n",
       "      <th>BU_G3F_ACC_TIME</th>\n",
       "      <th>BU_G2F_ACC_TIME</th>\n",
       "      <th>BU_G1F_ACC_TIME</th>\n",
       "      <th>TR_CON</th>\n",
       "      <th>TR_WC</th>\n",
       "    </tr>\n",
       "  </thead>\n",
       "  <tbody>\n",
       "    <tr>\n",
       "      <th>0</th>\n",
       "      <td>제주</td>\n",
       "      <td>20230701</td>\n",
       "      <td>1</td>\n",
       "      <td>800</td>\n",
       "      <td>제6등급</td>\n",
       "      <td>흐림</td>\n",
       "      <td>1</td>\n",
       "      <td>9</td>\n",
       "      <td>한백제왕</td>\n",
       "      <td>3101848</td>\n",
       "      <td>...</td>\n",
       "      <td>0.0</td>\n",
       "      <td>0.0</td>\n",
       "      <td>0.0</td>\n",
       "      <td>0.0</td>\n",
       "      <td>0.0</td>\n",
       "      <td>0.0</td>\n",
       "      <td>0.0</td>\n",
       "      <td>0.0</td>\n",
       "      <td>포화</td>\n",
       "      <td>18</td>\n",
       "    </tr>\n",
       "  </tbody>\n",
       "</table>\n",
       "<p>1 rows × 91 columns</p>\n",
       "</div>"
      ],
      "text/plain": [
       "  MEET   RC_DATE  RC_NO RC_DIST  RANK WEATHER  ORD  CHUL_NO HR_NAME    HR_NO  \\\n",
       "0   제주  20230701      1     800  제6등급      흐림    1        9    한백제왕  3101848   \n",
       "\n",
       "   ... BU_1F-G_TIME BU_S1F_ACC_TIME  BU_G8F_ACC_TIME BU_G6F_ACC_TIME  \\\n",
       "0  ...          0.0             0.0              0.0             0.0   \n",
       "\n",
       "   BU_G4F_ACC_TIME  BU_G3F_ACC_TIME  BU_G2F_ACC_TIME  BU_G1F_ACC_TIME  TR_CON  \\\n",
       "0              0.0              0.0              0.0              0.0      포화   \n",
       "\n",
       "   TR_WC  \n",
       "0     18  \n",
       "\n",
       "[1 rows x 91 columns]"
      ]
     },
     "execution_count": 23,
     "metadata": {},
     "output_type": "execute_result"
    }
   ],
   "source": [
    "df.head(1)"
   ]
  },
  {
   "cell_type": "code",
   "execution_count": 24,
   "metadata": {},
   "outputs": [
    {
     "data": {
      "text/plain": [
       "Index(['MEET', 'RC_DATE', 'RC_NO', 'RC_DIST', 'RANK', 'WEATHER', 'ORD',\n",
       "       'CHUL_NO', 'HR_NAME', 'HR_NO', 'NAME', 'PRD_NAME', 'AGE', 'SEX',\n",
       "       'RC_TIME', 'ORD1_CNT_T', 'ORD2_CNT_T', 'RC_CNT_T', 'ORD1_CNT_Y',\n",
       "       'ORD2_CNT_Y', 'RC_CNT_Y', 'WG_HR', 'WG_BUDAM', 'JK_NAME', 'JK_NO',\n",
       "       'JK_AGE', 'JK_CAREER', 'JK_ORD1_CNT_T', 'JK_ORD2_CNT_T', 'JK_RC_CNT_T',\n",
       "       'JK_ORD1_CNT_Y', 'JK_ORD2_CNT_Y', 'JK_RC_CNT_Y', 'TR_NAME', 'TR_NO',\n",
       "       'TR_AGE', 'TR_CAREER', 'TR_ORD1_CNT_T', 'TR_ORD2_CNT_T', 'TR_RC_CNT_T',\n",
       "       'TR_ORD1_CNT_Y', 'TR_ORD2_CNT_Y', 'TR_RC_CNT_Y', 'HR_ORD1_CNT_T',\n",
       "       'HR_ORD2_CNT_T', 'HR_RC_CNT_T', 'SJ_S1F_ORD', 'SJ_1C_ORD', 'SJ_2C_ORD',\n",
       "       'SJ_3C_ORD', 'SJ_G3F_ORD', 'SJ_4C_ORD', 'SJ_G1F_ORD', 'SE_S1F_ACC_TIME',\n",
       "       'SE_1C_ACC_TIME', 'SE_2C_ACC_TIME', 'SE_3C_ACC_TIME', 'SE_G3F_ACC_TIME',\n",
       "       'SE_4C_ACC_TIME', 'SE_G1F_ACC_TIME', 'JE_S1F_TIME', 'JE_1C_TIME',\n",
       "       'JE_2C_TIME', 'JE_3C_TIME', 'JE_G3F_TIME', 'JE_4C_TIME', 'JE_G1F_TIME',\n",
       "       'BU_S1F_ORD', 'BU_G8F_ORD', 'BU_G6F_ORD', 'BU_G4F_ORD', 'BU_G3F_ORD',\n",
       "       'BU_G2F_ORD', 'BU_G1F_ORD', 'BU_S1F_TIME', 'BU_10-8F_TIME',\n",
       "       'BU_8-6F_TIME', 'BU_6-4F_TIME', 'BU_4-2F_TIME', 'BU_2F-G_TIME',\n",
       "       'BU_3F-G_TIME', 'BU_1F-G_TIME', 'BU_S1F_ACC_TIME', 'BU_G8F_ACC_TIME',\n",
       "       'BU_G6F_ACC_TIME', 'BU_G4F_ACC_TIME', 'BU_G3F_ACC_TIME',\n",
       "       'BU_G2F_ACC_TIME', 'BU_G1F_ACC_TIME', 'TR_CON', 'TR_WC'],\n",
       "      dtype='object')"
      ]
     },
     "execution_count": 24,
     "metadata": {},
     "output_type": "execute_result"
    }
   ],
   "source": [
    "df.columns"
   ]
  },
  {
   "cell_type": "code",
   "execution_count": 26,
   "metadata": {},
   "outputs": [],
   "source": [
    "rc_datas = df.loc[:, [\"MEET\", \"RC_DATE\", \"RC_NO\", \"RC_DIST\", \"RANK\", \"WEATHER\", \"ORD\", \"CHUL_NO\", \"HR_NO\", \"JK_NO\", \"TR_NO\", \n",
    "           \"SJ_S1F_ORD\", \"SJ_1C_ORD\", \"SJ_2C_ORD\", \"SJ_3C_ORD\", \"SJ_G3F_ORD\", \"SJ_4C_ORD\", \"SJ_G1F_ORD\", \n",
    "           \"SE_S1F_ACC_TIME\", \"SE_1C_ACC_TIME\", \"SE_2C_ACC_TIME\", \"SE_3C_ACC_TIME\", \"SE_G3F_ACC_TIME\", \n",
    "           \"SE_4C_ACC_TIME\", \"SE_G1F_ACC_TIME\", \"JE_S1F_TIME\", \"JE_1C_TIME\", \"JE_2C_TIME\", \"JE_3C_TIME\", \n",
    "           \"JE_G3F_TIME\", \"JE_4C_TIME\", \"JE_G1F_TIME\", \"BU_S1F_ORD\", \"BU_G8F_ORD\", \"BU_G6F_ORD\", \"BU_G4F_ORD\", \n",
    "           \"BU_G3F_ORD\", \"BU_G2F_ORD\", \"BU_G1F_ORD\", \"BU_S1F_TIME\", \"BU_10-8F_TIME\", \"BU_8-6F_TIME\", \n",
    "           \"BU_6-4F_TIME\", \"BU_4-2F_TIME\", \"BU_2F-G_TIME\", \"BU_3F-G_TIME\", \"BU_1F-G_TIME\", \"BU_S1F_ACC_TIME\", \n",
    "           \"BU_G8F_ACC_TIME\", \"BU_G6F_ACC_TIME\", \"BU_G4F_ACC_TIME\", \"BU_G3F_ACC_TIME\", \"BU_G2F_ACC_TIME\", \n",
    "           \"BU_G1F_ACC_TIME\", \"TR_CON\", \"TR_WC\"]]\n"
   ]
  },
  {
   "cell_type": "code",
   "execution_count": 28,
   "metadata": {},
   "outputs": [
    {
     "data": {
      "text/html": [
       "<div>\n",
       "<style scoped>\n",
       "    .dataframe tbody tr th:only-of-type {\n",
       "        vertical-align: middle;\n",
       "    }\n",
       "\n",
       "    .dataframe tbody tr th {\n",
       "        vertical-align: top;\n",
       "    }\n",
       "\n",
       "    .dataframe thead th {\n",
       "        text-align: right;\n",
       "    }\n",
       "</style>\n",
       "<table border=\"1\" class=\"dataframe\">\n",
       "  <thead>\n",
       "    <tr style=\"text-align: right;\">\n",
       "      <th></th>\n",
       "      <th>MEET</th>\n",
       "      <th>RC_DATE</th>\n",
       "      <th>RC_NO</th>\n",
       "      <th>RC_DIST</th>\n",
       "      <th>RANK</th>\n",
       "      <th>WEATHER</th>\n",
       "      <th>ORD</th>\n",
       "      <th>CHUL_NO</th>\n",
       "      <th>HR_NO</th>\n",
       "      <th>JK_NO</th>\n",
       "      <th>...</th>\n",
       "      <th>BU_1F-G_TIME</th>\n",
       "      <th>BU_S1F_ACC_TIME</th>\n",
       "      <th>BU_G8F_ACC_TIME</th>\n",
       "      <th>BU_G6F_ACC_TIME</th>\n",
       "      <th>BU_G4F_ACC_TIME</th>\n",
       "      <th>BU_G3F_ACC_TIME</th>\n",
       "      <th>BU_G2F_ACC_TIME</th>\n",
       "      <th>BU_G1F_ACC_TIME</th>\n",
       "      <th>TR_CON</th>\n",
       "      <th>TR_WC</th>\n",
       "    </tr>\n",
       "  </thead>\n",
       "  <tbody>\n",
       "    <tr>\n",
       "      <th>0</th>\n",
       "      <td>제주</td>\n",
       "      <td>20230701</td>\n",
       "      <td>1</td>\n",
       "      <td>800</td>\n",
       "      <td>제6등급</td>\n",
       "      <td>흐림</td>\n",
       "      <td>1</td>\n",
       "      <td>9</td>\n",
       "      <td>3101848</td>\n",
       "      <td>3081</td>\n",
       "      <td>...</td>\n",
       "      <td>0.0</td>\n",
       "      <td>0.0</td>\n",
       "      <td>0.0</td>\n",
       "      <td>0.0</td>\n",
       "      <td>0.0</td>\n",
       "      <td>0.0</td>\n",
       "      <td>0.0</td>\n",
       "      <td>0.0</td>\n",
       "      <td>포화</td>\n",
       "      <td>18</td>\n",
       "    </tr>\n",
       "  </tbody>\n",
       "</table>\n",
       "<p>1 rows × 56 columns</p>\n",
       "</div>"
      ],
      "text/plain": [
       "  MEET   RC_DATE  RC_NO RC_DIST  RANK WEATHER  ORD  CHUL_NO    HR_NO  JK_NO  \\\n",
       "0   제주  20230701      1     800  제6등급      흐림    1        9  3101848   3081   \n",
       "\n",
       "   ... BU_1F-G_TIME  BU_S1F_ACC_TIME  BU_G8F_ACC_TIME  BU_G6F_ACC_TIME  \\\n",
       "0  ...          0.0              0.0              0.0              0.0   \n",
       "\n",
       "   BU_G4F_ACC_TIME  BU_G3F_ACC_TIME  BU_G2F_ACC_TIME  BU_G1F_ACC_TIME  TR_CON  \\\n",
       "0              0.0              0.0              0.0              0.0      포화   \n",
       "\n",
       "   TR_WC  \n",
       "0     18  \n",
       "\n",
       "[1 rows x 56 columns]"
      ]
     },
     "execution_count": 28,
     "metadata": {},
     "output_type": "execute_result"
    }
   ],
   "source": [
    "rc_datas.head(1)"
   ]
  },
  {
   "cell_type": "code",
   "execution_count": 43,
   "metadata": {},
   "outputs": [],
   "source": [
    "rc_data = df.loc[:, [ 'MEET', 'RC_DATE', 'RC_NO', 'RC_DIST', 'RANK', 'WEATHER', 'TR_CON', 'TR_WC', \n",
    "       'ORD', 'CHUL_NO', 'HR_NO', 'JK_NO', 'TR_NO']]"
   ]
  },
  {
   "cell_type": "code",
   "execution_count": 47,
   "metadata": {},
   "outputs": [
    {
     "data": {
      "text/html": [
       "<div>\n",
       "<style scoped>\n",
       "    .dataframe tbody tr th:only-of-type {\n",
       "        vertical-align: middle;\n",
       "    }\n",
       "\n",
       "    .dataframe tbody tr th {\n",
       "        vertical-align: top;\n",
       "    }\n",
       "\n",
       "    .dataframe thead th {\n",
       "        text-align: right;\n",
       "    }\n",
       "</style>\n",
       "<table border=\"1\" class=\"dataframe\">\n",
       "  <thead>\n",
       "    <tr style=\"text-align: right;\">\n",
       "      <th></th>\n",
       "      <th>MEET</th>\n",
       "      <th>RC_DATE</th>\n",
       "      <th>RC_NO</th>\n",
       "      <th>RC_DIST</th>\n",
       "      <th>RANK</th>\n",
       "      <th>WEATHER</th>\n",
       "      <th>TR_CON</th>\n",
       "      <th>TR_WC</th>\n",
       "      <th>ORD</th>\n",
       "      <th>CHUL_NO</th>\n",
       "      <th>HR_NO</th>\n",
       "      <th>JK_NO</th>\n",
       "      <th>TR_NO</th>\n",
       "    </tr>\n",
       "  </thead>\n",
       "  <tbody>\n",
       "    <tr>\n",
       "      <th>0</th>\n",
       "      <td>제주</td>\n",
       "      <td>20230701</td>\n",
       "      <td>1</td>\n",
       "      <td>800</td>\n",
       "      <td>제6등급</td>\n",
       "      <td>흐림</td>\n",
       "      <td>포화</td>\n",
       "      <td>18</td>\n",
       "      <td>1</td>\n",
       "      <td>9</td>\n",
       "      <td>3101848</td>\n",
       "      <td>3081</td>\n",
       "      <td>002019</td>\n",
       "    </tr>\n",
       "  </tbody>\n",
       "</table>\n",
       "</div>"
      ],
      "text/plain": [
       "  MEET   RC_DATE  RC_NO RC_DIST  RANK WEATHER TR_CON  TR_WC  ORD  CHUL_NO  \\\n",
       "0   제주  20230701      1     800  제6등급      흐림     포화     18    1        9   \n",
       "\n",
       "     HR_NO  JK_NO   TR_NO  \n",
       "0  3101848   3081  002019  "
      ]
     },
     "execution_count": 47,
     "metadata": {},
     "output_type": "execute_result"
    }
   ],
   "source": [
    "rc_data.head(1)"
   ]
  },
  {
   "cell_type": "code",
   "execution_count": 45,
   "metadata": {},
   "outputs": [
    {
     "name": "stdout",
     "output_type": "stream",
     "text": [
      "<class 'pandas.core.frame.DataFrame'>\n",
      "RangeIndex: 63293 entries, 0 to 63292\n",
      "Data columns (total 13 columns):\n",
      " #   Column   Non-Null Count  Dtype \n",
      "---  ------   --------------  ----- \n",
      " 0   MEET     63293 non-null  object\n",
      " 1   RC_DATE  63293 non-null  int64 \n",
      " 2   RC_NO    63293 non-null  int64 \n",
      " 3   RC_DIST  63293 non-null  object\n",
      " 4   RANK     63293 non-null  object\n",
      " 5   WEATHER  63293 non-null  object\n",
      " 6   TR_CON   62879 non-null  object\n",
      " 7   TR_WC    63293 non-null  int64 \n",
      " 8   ORD      63293 non-null  int64 \n",
      " 9   CHUL_NO  63293 non-null  int64 \n",
      " 10  HR_NO    63293 non-null  int64 \n",
      " 11  JK_NO    63293 non-null  int64 \n",
      " 12  TR_NO    63292 non-null  object\n",
      "dtypes: int64(7), object(6)\n",
      "memory usage: 6.3+ MB\n"
     ]
    }
   ],
   "source": [
    "rc_data.info()"
   ]
  },
  {
   "cell_type": "code",
   "execution_count": 37,
   "metadata": {},
   "outputs": [],
   "source": [
    "columns_order = ['MEET', 'RC_DATE', 'RC_NO', 'RC_DIST', 'RANK', 'WEATHER','TR_CON', 'TR_WC', 'ORD',\n",
    "       'CHUL_NO', 'HR_NO', 'JK_NO', 'TR_NO', 'SJ_S1F_ORD', 'SJ_1C_ORD',\n",
    "       'SJ_2C_ORD', 'SJ_3C_ORD', 'SJ_G3F_ORD', 'SJ_4C_ORD', 'SJ_G1F_ORD',\n",
    "       'SE_S1F_ACC_TIME', 'SE_1C_ACC_TIME', 'SE_2C_ACC_TIME', 'SE_3C_ACC_TIME',\n",
    "       'SE_G3F_ACC_TIME', 'SE_4C_ACC_TIME', 'SE_G1F_ACC_TIME', 'JE_S1F_TIME',\n",
    "       'JE_1C_TIME', 'JE_2C_TIME', 'JE_3C_TIME', 'JE_G3F_TIME', 'JE_4C_TIME',\n",
    "       'JE_G1F_TIME', 'BU_S1F_ORD', 'BU_G8F_ORD', 'BU_G6F_ORD', 'BU_G4F_ORD',\n",
    "       'BU_G3F_ORD', 'BU_G2F_ORD', 'BU_G1F_ORD', 'BU_S1F_TIME',\n",
    "       'BU_10-8F_TIME', 'BU_8-6F_TIME', 'BU_6-4F_TIME', 'BU_4-2F_TIME',\n",
    "       'BU_2F-G_TIME', 'BU_3F-G_TIME', 'BU_1F-G_TIME', 'BU_S1F_ACC_TIME',\n",
    "       'BU_G8F_ACC_TIME', 'BU_G6F_ACC_TIME', 'BU_G4F_ACC_TIME',\n",
    "       'BU_G3F_ACC_TIME', 'BU_G2F_ACC_TIME', 'BU_G1F_ACC_TIME']\n",
    "\n",
    "rc_datas = rc_datas[columns_order]"
   ]
  },
  {
   "cell_type": "code",
   "execution_count": 46,
   "metadata": {},
   "outputs": [
    {
     "data": {
      "text/html": [
       "<div>\n",
       "<style scoped>\n",
       "    .dataframe tbody tr th:only-of-type {\n",
       "        vertical-align: middle;\n",
       "    }\n",
       "\n",
       "    .dataframe tbody tr th {\n",
       "        vertical-align: top;\n",
       "    }\n",
       "\n",
       "    .dataframe thead th {\n",
       "        text-align: right;\n",
       "    }\n",
       "</style>\n",
       "<table border=\"1\" class=\"dataframe\">\n",
       "  <thead>\n",
       "    <tr style=\"text-align: right;\">\n",
       "      <th></th>\n",
       "      <th>MEET</th>\n",
       "      <th>RC_DATE</th>\n",
       "      <th>RC_NO</th>\n",
       "      <th>RC_DIST</th>\n",
       "      <th>RANK</th>\n",
       "      <th>WEATHER</th>\n",
       "      <th>TR_CON</th>\n",
       "      <th>TR_WC</th>\n",
       "      <th>ORD</th>\n",
       "      <th>CHUL_NO</th>\n",
       "      <th>...</th>\n",
       "      <th>BU_2F-G_TIME</th>\n",
       "      <th>BU_3F-G_TIME</th>\n",
       "      <th>BU_1F-G_TIME</th>\n",
       "      <th>BU_S1F_ACC_TIME</th>\n",
       "      <th>BU_G8F_ACC_TIME</th>\n",
       "      <th>BU_G6F_ACC_TIME</th>\n",
       "      <th>BU_G4F_ACC_TIME</th>\n",
       "      <th>BU_G3F_ACC_TIME</th>\n",
       "      <th>BU_G2F_ACC_TIME</th>\n",
       "      <th>BU_G1F_ACC_TIME</th>\n",
       "    </tr>\n",
       "  </thead>\n",
       "  <tbody>\n",
       "    <tr>\n",
       "      <th>0</th>\n",
       "      <td>제주</td>\n",
       "      <td>20230701</td>\n",
       "      <td>1</td>\n",
       "      <td>800</td>\n",
       "      <td>제6등급</td>\n",
       "      <td>흐림</td>\n",
       "      <td>포화</td>\n",
       "      <td>18</td>\n",
       "      <td>1</td>\n",
       "      <td>9</td>\n",
       "      <td>...</td>\n",
       "      <td>0.0</td>\n",
       "      <td>0.0</td>\n",
       "      <td>0.0</td>\n",
       "      <td>0.0</td>\n",
       "      <td>0.0</td>\n",
       "      <td>0.0</td>\n",
       "      <td>0.0</td>\n",
       "      <td>0.0</td>\n",
       "      <td>0.0</td>\n",
       "      <td>0.0</td>\n",
       "    </tr>\n",
       "  </tbody>\n",
       "</table>\n",
       "<p>1 rows × 56 columns</p>\n",
       "</div>"
      ],
      "text/plain": [
       "  MEET   RC_DATE  RC_NO RC_DIST  RANK WEATHER TR_CON  TR_WC  ORD  CHUL_NO  \\\n",
       "0   제주  20230701      1     800  제6등급      흐림     포화     18    1        9   \n",
       "\n",
       "   ...  BU_2F-G_TIME  BU_3F-G_TIME BU_1F-G_TIME  BU_S1F_ACC_TIME  \\\n",
       "0  ...           0.0           0.0          0.0              0.0   \n",
       "\n",
       "   BU_G8F_ACC_TIME  BU_G6F_ACC_TIME  BU_G4F_ACC_TIME  BU_G3F_ACC_TIME  \\\n",
       "0              0.0              0.0              0.0              0.0   \n",
       "\n",
       "   BU_G2F_ACC_TIME  BU_G1F_ACC_TIME  \n",
       "0              0.0              0.0  \n",
       "\n",
       "[1 rows x 56 columns]"
      ]
     },
     "execution_count": 46,
     "metadata": {},
     "output_type": "execute_result"
    }
   ],
   "source": [
    "rc_datas.head(1)"
   ]
  },
  {
   "cell_type": "code",
   "execution_count": 39,
   "metadata": {},
   "outputs": [
    {
     "data": {
      "text/plain": [
       "Index(['MEET', 'RC_DATE', 'RC_NO', 'RC_DIST', 'RANK', 'WEATHER', 'TR_CON',\n",
       "       'TR_WC', 'ORD', 'CHUL_NO', 'HR_NO', 'JK_NO', 'TR_NO', 'SJ_S1F_ORD',\n",
       "       'SJ_1C_ORD', 'SJ_2C_ORD', 'SJ_3C_ORD', 'SJ_G3F_ORD', 'SJ_4C_ORD',\n",
       "       'SJ_G1F_ORD', 'SE_S1F_ACC_TIME', 'SE_1C_ACC_TIME', 'SE_2C_ACC_TIME',\n",
       "       'SE_3C_ACC_TIME', 'SE_G3F_ACC_TIME', 'SE_4C_ACC_TIME',\n",
       "       'SE_G1F_ACC_TIME', 'JE_S1F_TIME', 'JE_1C_TIME', 'JE_2C_TIME',\n",
       "       'JE_3C_TIME', 'JE_G3F_TIME', 'JE_4C_TIME', 'JE_G1F_TIME', 'BU_S1F_ORD',\n",
       "       'BU_G8F_ORD', 'BU_G6F_ORD', 'BU_G4F_ORD', 'BU_G3F_ORD', 'BU_G2F_ORD',\n",
       "       'BU_G1F_ORD', 'BU_S1F_TIME', 'BU_10-8F_TIME', 'BU_8-6F_TIME',\n",
       "       'BU_6-4F_TIME', 'BU_4-2F_TIME', 'BU_2F-G_TIME', 'BU_3F-G_TIME',\n",
       "       'BU_1F-G_TIME', 'BU_S1F_ACC_TIME', 'BU_G8F_ACC_TIME', 'BU_G6F_ACC_TIME',\n",
       "       'BU_G4F_ACC_TIME', 'BU_G3F_ACC_TIME', 'BU_G2F_ACC_TIME',\n",
       "       'BU_G1F_ACC_TIME'],\n",
       "      dtype='object')"
      ]
     },
     "execution_count": 39,
     "metadata": {},
     "output_type": "execute_result"
    }
   ],
   "source": [
    "rc_datas.columns"
   ]
  },
  {
   "cell_type": "code",
   "execution_count": 48,
   "metadata": {},
   "outputs": [],
   "source": [
    "rc_data.to_csv('rc_data.csv', index=False, encoding='utf-8-sig')"
   ]
  },
  {
   "cell_type": "code",
   "execution_count": 49,
   "metadata": {},
   "outputs": [],
   "source": [
    "rc_datas.to_csv('rc_datas.csv', index=False, encoding='utf-8-sig')"
   ]
  }
 ],
 "metadata": {
  "kernelspec": {
   "display_name": "Python 3",
   "language": "python",
   "name": "python3"
  },
  "language_info": {
   "codemirror_mode": {
    "name": "ipython",
    "version": 3
   },
   "file_extension": ".py",
   "mimetype": "text/x-python",
   "name": "python",
   "nbconvert_exporter": "python",
   "pygments_lexer": "ipython3",
   "version": "3.12.6"
  }
 },
 "nbformat": 4,
 "nbformat_minor": 2
}
