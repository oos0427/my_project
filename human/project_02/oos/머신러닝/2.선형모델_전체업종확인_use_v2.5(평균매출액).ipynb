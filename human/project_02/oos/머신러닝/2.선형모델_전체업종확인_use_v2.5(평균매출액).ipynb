{
 "cells": [
  {
   "cell_type": "code",
   "execution_count": 13,
   "metadata": {},
   "outputs": [],
   "source": [
    "import pandas as pd\n",
    "import numpy as np\n",
    "import my_def"
   ]
  },
  {
   "cell_type": "markdown",
   "metadata": {},
   "source": [
    "<h1>데이터확인</h1>\n",
    "총매출액 사용"
   ]
  },
  {
   "cell_type": "code",
   "execution_count": 14,
   "metadata": {},
   "outputs": [],
   "source": [
    "df = pd.read_csv('Merged_Sales_data_v2.4.csv')"
   ]
  },
  {
   "cell_type": "code",
   "execution_count": 15,
   "metadata": {},
   "outputs": [
    {
     "name": "stdout",
     "output_type": "stream",
     "text": [
      "<class 'pandas.core.frame.DataFrame'>\n",
      "RangeIndex: 374581 entries, 0 to 374580\n",
      "Data columns (total 17 columns):\n",
      " #   Column     Non-Null Count   Dtype \n",
      "---  ------     --------------   ----- \n",
      " 0   년분기        374581 non-null  int64 \n",
      " 1   행정동_코드     374581 non-null  int64 \n",
      " 2   행정동        374581 non-null  object\n",
      " 3   업종명        374581 non-null  object\n",
      " 4   월매출        374581 non-null  int64 \n",
      " 5   주중매출       374581 non-null  int64 \n",
      " 6   주말매출       374581 non-null  int64 \n",
      " 7   인구수        374581 non-null  int64 \n",
      " 8   점포수        374581 non-null  int64 \n",
      " 9   지역생활인구     374581 non-null  int64 \n",
      " 10  장기외국인      374581 non-null  int64 \n",
      " 11  단기외국인      374581 non-null  int64 \n",
      " 12  주차장면적(면)   374581 non-null  int64 \n",
      " 13  주차장개수(개소)  374581 non-null  int64 \n",
      " 14  학교수        374581 non-null  int64 \n",
      " 15  학생수        374581 non-null  int64 \n",
      " 16  버스정류장수     374581 non-null  int64 \n",
      "dtypes: int64(15), object(2)\n",
      "memory usage: 48.6+ MB\n"
     ]
    }
   ],
   "source": [
    "df.info()"
   ]
  },
  {
   "cell_type": "code",
   "execution_count": 16,
   "metadata": {},
   "outputs": [],
   "source": [
    "df = df.drop([\"행정동_코드\", \"주중매출\", \"주말매출\"], axis= 1)"
   ]
  },
  {
   "cell_type": "code",
   "execution_count": 17,
   "metadata": {},
   "outputs": [
    {
     "name": "stdout",
     "output_type": "stream",
     "text": [
      "<class 'pandas.core.frame.DataFrame'>\n",
      "RangeIndex: 374581 entries, 0 to 374580\n",
      "Data columns (total 14 columns):\n",
      " #   Column     Non-Null Count   Dtype \n",
      "---  ------     --------------   ----- \n",
      " 0   년분기        374581 non-null  int64 \n",
      " 1   행정동        374581 non-null  object\n",
      " 2   업종명        374581 non-null  object\n",
      " 3   월매출        374581 non-null  int64 \n",
      " 4   인구수        374581 non-null  int64 \n",
      " 5   점포수        374581 non-null  int64 \n",
      " 6   지역생활인구     374581 non-null  int64 \n",
      " 7   장기외국인      374581 non-null  int64 \n",
      " 8   단기외국인      374581 non-null  int64 \n",
      " 9   주차장면적(면)   374581 non-null  int64 \n",
      " 10  주차장개수(개소)  374581 non-null  int64 \n",
      " 11  학교수        374581 non-null  int64 \n",
      " 12  학생수        374581 non-null  int64 \n",
      " 13  버스정류장수     374581 non-null  int64 \n",
      "dtypes: int64(12), object(2)\n",
      "memory usage: 40.0+ MB\n"
     ]
    }
   ],
   "source": [
    "df.info()"
   ]
  },
  {
   "cell_type": "code",
   "execution_count": 18,
   "metadata": {},
   "outputs": [
    {
     "data": {
      "text/plain": [
       "array([], dtype=object)"
      ]
     },
     "execution_count": 18,
     "metadata": {},
     "output_type": "execute_result"
    }
   ],
   "source": [
    "# 0개인 점포수 확인\n",
    "df0 = df[df[\"점포수\"] == 0]\n",
    "df0[\"업종명\"].unique()"
   ]
  },
  {
   "cell_type": "code",
   "execution_count": 19,
   "metadata": {},
   "outputs": [
    {
     "data": {
      "text/plain": [
       "Index(['년분기', '행정동', '업종명', '월매출', '인구수', '점포수', '지역생활인구', '장기외국인', '단기외국인',\n",
       "       '주차장면적(면)', '주차장개수(개소)', '학교수', '학생수', '버스정류장수'],\n",
       "      dtype='object')"
      ]
     },
     "execution_count": 19,
     "metadata": {},
     "output_type": "execute_result"
    }
   ],
   "source": [
    "df.columns"
   ]
  },
  {
   "cell_type": "code",
   "execution_count": 20,
   "metadata": {},
   "outputs": [
    {
     "name": "stdout",
     "output_type": "stream",
     "text": [
      "<class 'pandas.core.frame.DataFrame'>\n",
      "RangeIndex: 374581 entries, 0 to 374580\n",
      "Data columns (total 14 columns):\n",
      " #   Column     Non-Null Count   Dtype \n",
      "---  ------     --------------   ----- \n",
      " 0   년분기        374581 non-null  int16 \n",
      " 1   행정동        374581 non-null  object\n",
      " 2   업종명        374581 non-null  object\n",
      " 3   월매출        374581 non-null  int64 \n",
      " 4   인구수        374581 non-null  int32 \n",
      " 5   점포수        374581 non-null  int16 \n",
      " 6   지역생활인구     374581 non-null  int32 \n",
      " 7   장기외국인      374581 non-null  int32 \n",
      " 8   단기외국인      374581 non-null  int32 \n",
      " 9   주차장면적(면)   374581 non-null  int32 \n",
      " 10  주차장개수(개소)  374581 non-null  int16 \n",
      " 11  학교수        374581 non-null  int16 \n",
      " 12  학생수        374581 non-null  int16 \n",
      " 13  버스정류장수     374581 non-null  int16 \n",
      "dtypes: int16(6), int32(5), int64(1), object(2)\n",
      "memory usage: 20.0+ MB\n",
      "None\n"
     ]
    }
   ],
   "source": [
    "df = my_def.reduce_memory_usage(df)"
   ]
  },
  {
   "cell_type": "markdown",
   "metadata": {},
   "source": [
    "<h1>전체업종 선형회귀 모델</h1>"
   ]
  },
  {
   "cell_type": "code",
   "execution_count": 21,
   "metadata": {},
   "outputs": [],
   "source": [
    "import pandas as pd\n",
    "from sklearn.model_selection import train_test_split\n",
    "from sklearn.linear_model import LinearRegression"
   ]
  },
  {
   "cell_type": "code",
   "execution_count": 22,
   "metadata": {},
   "outputs": [],
   "source": [
    "# '행정동' 컬럼 원핫인코딩 수행\n",
    "df = pd.get_dummies(df, columns=['행정동'], drop_first=True)\n",
    "\n",
    "# 피처와 타겟 설정\n",
    "features = ['년분기', '인구수', '점포수', '지역생활인구', '장기외국인', '단기외국인', '주차장면적(면)', '주차장개수(개소)', '학교수', '학생수', '버스정류장수'] + [col for col in df.columns if col.startswith('행정동_')]\n",
    "target = '월매출'\n",
    "\n",
    "X = df[features]\n",
    "y = df[target]\n",
    "\n",
    "# 학습 데이터와 테스트 데이터 분리\n",
    "X_train, X_test, y_train, y_test = train_test_split(X, y, test_size=0.2, random_state=42)\n",
    "\n",
    "# 선형 회귀 모델 학습 및 예측\n",
    "model = LinearRegression()\n",
    "model.fit(X_train, y_train)\n",
    "y_pred = model.predict(X_test)"
   ]
  },
  {
   "cell_type": "code",
   "execution_count": 23,
   "metadata": {},
   "outputs": [
    {
     "data": {
      "text/plain": [
       "{'train_mse': np.float64(8.042648940072473e+19),\n",
       " 'test_mse': np.float64(8.373483282692004e+19),\n",
       " 'train_rmse': np.float64(8968081701.27),\n",
       " 'test_rmse': np.float64(9150673900.15),\n",
       " 'train_r2': 0.14,\n",
       " 'test_r2': 0.18,\n",
       " 'train_mae': np.float64(1413094039.39),\n",
       " 'test_mae': np.float64(1450800783.38),\n",
       " 'train_mae_ratio': np.float64(103.92),\n",
       " 'test_mae_ratio': np.float64(103.07)}"
      ]
     },
     "execution_count": 23,
     "metadata": {},
     "output_type": "execute_result"
    }
   ],
   "source": [
    "# 모델 평가 호출 선형회귀모델\n",
    "my_def.evaluate_model(model, X_train, X_test, y_train, y_test)"
   ]
  },
  {
   "cell_type": "code",
   "execution_count": 24,
   "metadata": {},
   "outputs": [
    {
     "name": "stdout",
     "output_type": "stream",
     "text": [
      "                      train_mse                       test_mse     train_rmse  \\\n",
      "미곡판매      493043680254878592.00 126524353876042766773911552.00   702170691.68   \n",
      "분식전문점     130175914339456224.00          127178213963516784.00   360798994.37   \n",
      "편의점       453712678831133056.00          635146804643882624.00   673581976.33   \n",
      "한식음식점    6565589343919916032.00         9408567779922044928.00  2562340598.73   \n",
      "의약품      1881202838643878912.00         2777454729919945216.00  1371569480.06   \n",
      "...                         ...                            ...            ...   \n",
      "수산물판매  126613306720933756928.00       132709621476685266944.00 11252257849.91   \n",
      "고시원         5303962948986172.00            5293223431738722.00    72828311.45   \n",
      "완구        105399854936714912.00           42790592625770832.00   324653438.20   \n",
      "부동산중개업     23128598937988740.00          108048681971221088.00   152080896.03   \n",
      "가방        118190105807691968.00          253314609684736480.00   343787879.09   \n",
      "\n",
      "               test_rmse  train_r2      test_r2     train_mae        test_mae  \\\n",
      "미곡판매   11248304488946.00      0.94 -21976780.02  248810648.00 977066031861.15   \n",
      "분식전문점       356620546.19      0.88         0.87  166262927.82    169835300.13   \n",
      "편의점         796960980.63      0.95         0.95  411973667.45    459012617.62   \n",
      "한식음식점      3067338875.95      0.93         0.92 1425104691.97   1665300929.36   \n",
      "의약품        1666569749.49      0.92         0.90  616179373.41    678461625.59   \n",
      "...                  ...       ...          ...           ...             ...   \n",
      "수산물판매     11519966209.88      0.94         0.96 3185864219.86   3477595858.94   \n",
      "고시원          72754542.34      0.91         0.93   47389513.97     53821539.71   \n",
      "완구          206858871.28      0.99         0.99  164135809.49    126716785.44   \n",
      "부동산중개업      328707593.42      0.86         0.66   71463649.33    153089128.58   \n",
      "가방          503303695.28      0.90         0.88  144441829.92    205693748.79   \n",
      "\n",
      "        train_mae_ratio  test_mae_ratio  test_mae_ratio_max  \\\n",
      "미곡판매              35.20       159479.74           779954.45   \n",
      "분식전문점             23.37           24.75           779954.45   \n",
      "편의점               14.23           15.01           779954.45   \n",
      "한식음식점             20.16           21.20           779954.45   \n",
      "의약품               17.43           18.87           779954.45   \n",
      "...                 ...             ...                 ...   \n",
      "수산물판매             60.90           43.32           779954.45   \n",
      "고시원               26.38           25.18           779954.45   \n",
      "완구                14.30           22.26           779954.45   \n",
      "부동산중개업            35.62           54.06           779954.45   \n",
      "가방                35.48           31.22           779954.45   \n",
      "\n",
      "        test_mae_ratio_min  test_mae_ratio_mean  \n",
      "미곡판매                 15.01             24739.19  \n",
      "분식전문점                15.01             24739.19  \n",
      "편의점                  15.01             24739.19  \n",
      "한식음식점                15.01             24739.19  \n",
      "의약품                  15.01             24739.19  \n",
      "...                    ...                  ...  \n",
      "수산물판매                15.01             24739.19  \n",
      "고시원                  15.01             24739.19  \n",
      "완구                   15.01             24739.19  \n",
      "부동산중개업               15.01             24739.19  \n",
      "가방                   15.01             24739.19  \n",
      "\n",
      "[63 rows x 13 columns]\n"
     ]
    }
   ],
   "source": [
    "from sklearn.model_selection import train_test_split\n",
    "from sklearn.linear_model import LinearRegression\n",
    "import pandas as pd\n",
    "\n",
    "# 파일 로드\n",
    "file_path = df = 'Merged_Sales_data_v2.4.csv'\n",
    "df = pd.read_csv(file_path)\n",
    "\n",
    "# 업종명 고유값 추출\n",
    "unique_categories = df[\"업종명\"].unique()\n",
    "\n",
    "# 결과를 저장할 딕셔너리 생성\n",
    "results = {}\n",
    "\n",
    "# 각 업종별로 데이터를 나누어 모델 학습 및 예측 수행\n",
    "for category in unique_categories:\n",
    "    # 업종별 데이터 필터링\n",
    "    df_category = df[df['업종명'] == category]\n",
    "    \n",
    "    # 원핫인코딩 수행\n",
    "    df_category = pd.get_dummies(df_category, columns=['행정동'], drop_first=True)\n",
    "    \n",
    "    # 피처와 타겟 설정\n",
    "    features = ['년분기', '인구수', '점포수', '지역생활인구', '장기외국인', '단기외국인', '주차장면적(면)', '주차장개수(개소)', '학교수', '학생수', '버스정류장수'] + [col for col in df_category.columns if col.startswith('행정동_')]\n",
    "    target = '월매출'\n",
    "    \n",
    "    # 피처와 타겟 데이터 분리\n",
    "    X = df_category[features]\n",
    "    y = df_category[target]\n",
    "    \n",
    "    # 학습 데이터와 테스트 데이터 분리\n",
    "    X_train, X_test, y_train, y_test = train_test_split(X, y, test_size=0.2, random_state=42)\n",
    "    \n",
    "    # 선형 회귀 모델 학습\n",
    "    model = LinearRegression()\n",
    "    model.fit(X_train, y_train)\n",
    "    \n",
    "    # 성능 평가 호출\n",
    "    evaluation_result = my_def.evaluate_model(model, X_train, X_test, y_train, y_test)\n",
    "    \n",
    "    # 결과 저장\n",
    "    if evaluation_result is not None:\n",
    "        results[category] = evaluation_result\n",
    "\n",
    "# 결과를 데이터프레임으로 변환\n",
    "results_df = pd.DataFrame.from_dict(results, orient='index')\n",
    "results_df = results_df.apply(pd.to_numeric)\n",
    "\n",
    "# test_mae_ratio의 최고, 최저, 평균 추가\n",
    "test_mae_ratio_max = results_df['test_mae_ratio'].max()\n",
    "test_mae_ratio_min = results_df['test_mae_ratio'].min()\n",
    "test_mae_ratio_mean = results_df['test_mae_ratio'].mean()\n",
    "\n",
    "# 모든 행에 공통으로 최고, 최저, 평균 추가\n",
    "test_mae_summary = {\n",
    "    'test_mae_ratio_max': test_mae_ratio_max,\n",
    "    'test_mae_ratio_min': test_mae_ratio_min,\n",
    "    'test_mae_ratio_mean': test_mae_ratio_mean\n",
    "}\n",
    "\n",
    "for key, value in test_mae_summary.items():\n",
    "    results_df[key] = value\n",
    "\n",
    "# 결과를 소수점 2자리로 포맷팅하여 출력\n",
    "pd.options.display.float_format = '{:.2f}'.format\n",
    "print(results_df)\n"
   ]
  },
  {
   "cell_type": "code",
   "execution_count": 25,
   "metadata": {},
   "outputs": [
    {
     "data": {
      "text/plain": [
       "array(['미곡판매', '분식전문점', '편의점', '한식음식점', '의약품', '슈퍼마켓', '반찬가게', '호프-간이주점',\n",
       "       '커피-음료', '일반의원', '치과의원', '육류판매', '자동차수리', '한의원', '의료기기', '양식음식점',\n",
       "       '세탁소', '피부관리실', '화장품', '철물점', '일반교습학원', '스포츠 강습', '스포츠클럽', '골프연습장',\n",
       "       '애완동물', '미용실', '화초', '신발', 'PC방', '안경', '일식음식점', '일반의류', '서적',\n",
       "       '가전제품수리', '예술학원', '컴퓨터및주변장치판매', '제과점', '운동/경기용품', '중식음식점',\n",
       "       '시계및귀금속', '치킨전문점', '패스트푸드점', '노래방', '당구장', '청과상', '외국어학원', '조명용품',\n",
       "       '네일숍', '가전제품', '핸드폰', '전자상거래업', '가구', '문구', '자전거 및 기타운송장비', '섬유제품',\n",
       "       '자동차미용', '여관', '인테리어', '수산물판매', '고시원', '완구', '부동산중개업', '가방'],\n",
       "      dtype=object)"
      ]
     },
     "execution_count": 25,
     "metadata": {},
     "output_type": "execute_result"
    }
   ],
   "source": [
    "df[\"업종명\"].unique()"
   ]
  },
  {
   "cell_type": "code",
   "execution_count": 26,
   "metadata": {},
   "outputs": [
    {
     "name": "stdout",
     "output_type": "stream",
     "text": [
      "train_mse             6565589343919916032.00\n",
      "test_mse              9408567779922044928.00\n",
      "train_rmse                     2562340598.73\n",
      "test_rmse                      3067338875.95\n",
      "train_r2                                0.93\n",
      "test_r2                                 0.92\n",
      "train_mae                      1425104691.97\n",
      "test_mae                       1665300929.36\n",
      "train_mae_ratio                        20.16\n",
      "test_mae_ratio                         21.20\n",
      "test_mae_ratio_max                 779954.45\n",
      "test_mae_ratio_min                     15.01\n",
      "test_mae_ratio_mean                 24739.19\n",
      "Name: 한식음식점, dtype: float64\n"
     ]
    }
   ],
   "source": [
    "print(results_df.loc[\"한식음식점\"])"
   ]
  }
 ],
 "metadata": {
  "kernelspec": {
   "display_name": "Python 3",
   "language": "python",
   "name": "python3"
  },
  "language_info": {
   "codemirror_mode": {
    "name": "ipython",
    "version": 3
   },
   "file_extension": ".py",
   "mimetype": "text/x-python",
   "name": "python",
   "nbconvert_exporter": "python",
   "pygments_lexer": "ipython3",
   "version": "3.12.7"
  }
 },
 "nbformat": 4,
 "nbformat_minor": 2
}
